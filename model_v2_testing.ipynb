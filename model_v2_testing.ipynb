{
 "cells": [
  {
   "cell_type": "markdown",
   "metadata": {},
   "source": [
    "## Model V2 - Node Groups Implemented"
   ]
  },
  {
   "cell_type": "code",
   "execution_count": 1,
   "metadata": {},
   "outputs": [],
   "source": [
    "import ilp_code.dataset_manipulation as dm\n",
    "import ilp_code.diagram_optimisation as do\n",
    "import pandas as pd\n",
    "from floweaver import *\n",
    "from attr import evolve"
   ]
  },
  {
   "cell_type": "markdown",
   "metadata": {},
   "source": [
    "## Test 1: Two Crossing Flows\n",
    "\n",
    "This test takes in a simple dataset consisting of two flows that cross. If the model is functioning as expected then it will simply reverse the order of the nodes in either layer. "
   ]
  },
  {
   "cell_type": "code",
   "execution_count": null,
   "metadata": {},
   "outputs": [],
   "source": [
    "# Import the two relevant csv files as dictionaries \n",
    "flowst1 = pd.read_csv('datasets\\\\test1_flows.csv').to_dict('records')\n",
    "node_deft1 = pd.read_csv('datasets\\\\test1_nodes.csv').to_dict('records')\n",
    "datasett1 = Dataset.from_csv('datasets\\\\test1_flows.csv','datasets\\\\test1_nodes.csv')"
   ]
  },
  {
   "cell_type": "code",
   "execution_count": null,
   "metadata": {},
   "outputs": [],
   "source": [
    "# Generate the dataset required for plotting the diagram\n",
    "nodest1 = dm.generate_nodes(node_deft1)\n",
    "orderingt1 = dm.generate_ordering(node_deft1)\n",
    "orderingt1,nodest1,bundlest1 = dm.generate_waypoints_bundles(node_deft1, flowst1, orderingt1, nodest1)\n",
    "\n",
    "# Generate sankey data\n",
    "size = dict(width = 600, height = 500)\n",
    "flows_by_typet1 = datasett1.partition('type')\n",
    "sddt1 = SankeyDefinition(nodest1, bundlest1, orderingt1, flow_partition=flows_by_typet1)\n",
    "sankey_datat1 = weave(sddt1, datasett1)\n",
    "\n",
    "# Plot diagram\n",
    "sankey_datat1.to_widget(**size)"
   ]
  },
  {
   "cell_type": "code",
   "execution_count": null,
   "metadata": {},
   "outputs": [],
   "source": [
    "# Optimise the order of the nodes based off crossing area ONLY\n",
    "modelt1 = do.model_inputs(sankey_datat1)\n",
    "ordering_optimisedt1 = do.optimise_node_order(modelt1)\n",
    "\n",
    "# Evolve the diagram and plot optimised version\n",
    "sankey_data_evolvedt1 = evolve(sankey_datat1, ordering = ordering_optimisedt1)\n",
    "sankey_data_evolvedt1.to_widget(**size)"
   ]
  },
  {
   "cell_type": "markdown",
   "metadata": {},
   "source": [
    "## Example 1: Plotting the Global Flow of Steel Dataset"
   ]
  },
  {
   "cell_type": "code",
   "execution_count": 2,
   "metadata": {},
   "outputs": [],
   "source": [
    "# Import the two relevant csv files as dictionaries \n",
    "flows = pd.read_csv('datasets\\global_steel_flows.csv').to_dict('records')\n",
    "node_def = pd.read_csv('datasets\\global_steel_nodes.csv').to_dict('records')\n",
    "dataset = Dataset.from_csv('datasets\\global_steel_flows.csv','datasets\\global_steel_nodes.csv')"
   ]
  },
  {
   "cell_type": "code",
   "execution_count": 3,
   "metadata": {},
   "outputs": [
    {
     "data": {
      "application/vnd.jupyter.widget-view+json": {
       "model_id": "ee55dec76fff4732b167ea602b284e93",
       "version_major": 2,
       "version_minor": 0
      },
      "text/plain": [
       "SankeyWidget(groups=[{'id': 'wp0', 'type': 'group', 'title': '', 'nodes': ['wp0^*']}, {'id': 'fwpBFother0', 't…"
      ]
     },
     "metadata": {},
     "output_type": "display_data"
    }
   ],
   "source": [
    "# Generate the dataset required for plotting the diagram\n",
    "nodes = dm.generate_nodes(node_def, group_by='type', partition_groups=['CC'])\n",
    "ordering = dm.generate_ordering(node_def, group_by='type')\n",
    "ordering,nodes,bundles = dm.generate_waypoints_bundles(node_def, flows, ordering, nodes, group_by='type')\n",
    "\n",
    "# Generate sankey data\n",
    "size = dict(width = 1200, height = 500)\n",
    "flows_by_type = dataset.partition('type')\n",
    "sdd = SankeyDefinition(nodes, bundles, ordering, flow_partition=flows_by_type)\n",
    "sankey_data = weave(sdd, dataset)\n",
    "\n",
    "# Plot diagram\n",
    "sankey_data.to_widget(**size)"
   ]
  },
  {
   "cell_type": "code",
   "execution_count": 4,
   "metadata": {},
   "outputs": [
    {
     "data": {
      "application/vnd.jupyter.widget-view+json": {
       "model_id": "e43c5d335c0842138bd3906beaca1b72",
       "version_major": 2,
       "version_minor": 0
      },
      "text/plain": [
       "SankeyWidget(groups=[{'id': 'wp0', 'type': 'group', 'title': '', 'nodes': ['wp0^*']}, {'id': 'fwpBFother0', 't…"
      ]
     },
     "metadata": {},
     "output_type": "display_data"
    }
   ],
   "source": [
    "# Optimise the order of the nodes based off crossing area ONLY\n",
    "model = do.model_inputs(sankey_data, group_nodes=True)\n",
    "ordering_optimised = do.optimise_node_order(model, group_nodes=True)\n",
    "\n",
    "# Evolve the diagram and plot optimised version\n",
    "from attr import evolve\n",
    "sankey_data_evolved = evolve(sankey_data, ordering = ordering_optimised)\n",
    "sankey_data_evolved.to_widget(**size)"
   ]
  },
  {
   "cell_type": "markdown",
   "metadata": {},
   "source": [
    "## Example 2: Synthetic Flow of Food Dataset"
   ]
  },
  {
   "cell_type": "code",
   "execution_count": 5,
   "metadata": {},
   "outputs": [],
   "source": [
    "# Import the two relevant csv files as dictionaries \n",
    "flows2 = pd.read_csv('datasets\\\\food_flows_table.csv').to_dict('records')\n",
    "node_def2 = pd.read_csv('datasets\\\\food_nodes_table.csv').to_dict('records')\n",
    "dataset2 = Dataset.from_csv('datasets\\\\food_flows_table.csv','datasets\\\\food_nodes_table.csv')"
   ]
  },
  {
   "cell_type": "code",
   "execution_count": 6,
   "metadata": {},
   "outputs": [
    {
     "data": {
      "application/vnd.jupyter.widget-view+json": {
       "model_id": "12ac7c09a2164f729f6b8361d9bcfc54",
       "version_major": 2,
       "version_minor": 0
      },
      "text/plain": [
       "SankeyWidget(groups=[{'id': 'wp0', 'type': 'group', 'title': '', 'nodes': ['wp0^*']}, {'id': 'fwpfarmcustomer0…"
      ]
     },
     "metadata": {},
     "output_type": "display_data"
    }
   ],
   "source": [
    "# Generate the dataset required for plotting the diagram\n",
    "nodes2 = dm.generate_nodes(node_def2, group_by='type', partition_groups=None)\n",
    "ordering2 = dm.generate_ordering(node_def2, group_by='type')\n",
    "ordering2,nodes2,bundles2 = dm.generate_waypoints_bundles(node_def2, flows2, ordering2, nodes2, group_by='type')\n",
    "\n",
    "# Generate sankey data\n",
    "size = dict(width = 600, height = 500)\n",
    "flows_by_type = dataset2.partition('type')\n",
    "sdd2 = SankeyDefinition(nodes2, bundles2, ordering2, flow_partition=flows_by_type)\n",
    "sankey_data2 = weave(sdd2, dataset2)\n",
    "\n",
    "# Plot diagram\n",
    "sankey_data2.to_widget(**size)"
   ]
  },
  {
   "cell_type": "code",
   "execution_count": 7,
   "metadata": {},
   "outputs": [
    {
     "data": {
      "application/vnd.jupyter.widget-view+json": {
       "model_id": "5e2606a9a0834f6e9f69605eaf3b0471",
       "version_major": 2,
       "version_minor": 0
      },
      "text/plain": [
       "SankeyWidget(groups=[{'id': 'wp0', 'type': 'group', 'title': '', 'nodes': ['wp0^*']}, {'id': 'fwpfarmcustomer0…"
      ]
     },
     "metadata": {},
     "output_type": "display_data"
    }
   ],
   "source": [
    "# Optimise the order of the nodes based off crossing area ONLY\n",
    "model2 = do.model_inputs(sankey_data2, group_nodes = True)\n",
    "\n",
    "ordering_optimised2 = do.optimise_node_order(model2, group_nodes = True)\n",
    "\n",
    "# Evolve the diagram and plot optimised version\n",
    "sankey_data_evolved2 = evolve(sankey_data2, ordering = ordering_optimised2)\n",
    "sankey_data_evolved2.to_widget(**size)"
   ]
  },
  {
   "cell_type": "code",
   "execution_count": null,
   "metadata": {},
   "outputs": [],
   "source": [
    "models1 = do.straightness_model(sankey_data_evolved2)"
   ]
  },
  {
   "cell_type": "code",
   "execution_count": null,
   "metadata": {},
   "outputs": [],
   "source": [
    "models1['edges']"
   ]
  },
  {
   "cell_type": "code",
   "execution_count": null,
   "metadata": {},
   "outputs": [],
   "source": [
    "for edge in models1['edge_weight']:\n",
    "    print(edge)"
   ]
  },
  {
   "cell_type": "code",
   "execution_count": null,
   "metadata": {},
   "outputs": [],
   "source": []
  }
 ],
 "metadata": {
  "kernelspec": {
   "display_name": "Python 3",
   "language": "python",
   "name": "python3"
  },
  "language_info": {
   "codemirror_mode": {
    "name": "ipython",
    "version": 3
   },
   "file_extension": ".py",
   "mimetype": "text/x-python",
   "name": "python",
   "nbconvert_exporter": "python",
   "pygments_lexer": "ipython3",
   "version": "3.8.5"
  }
 },
 "nbformat": 4,
 "nbformat_minor": 4
}
