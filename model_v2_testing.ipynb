{
 "cells": [
  {
   "cell_type": "markdown",
   "metadata": {},
   "source": [
    "## Model V2 - Node Groups Implemented"
   ]
  },
  {
   "cell_type": "code",
   "execution_count": 2,
   "metadata": {},
   "outputs": [],
   "source": [
    "import ilp_code.dataset_manipulation as dm\n",
    "import ilp_code.diagram_optimisation as do\n",
    "import pandas as pd\n",
    "from floweaver import *\n",
    "from attr import evolve"
   ]
  },
  {
   "cell_type": "markdown",
   "metadata": {},
   "source": [
    "## Test 1: Two Crossing Flows\n",
    "\n",
    "This test takes in a simple dataset consisting of two flows that cross. If the model is functioning as expected then it will simply reverse the order of the nodes in either layer. "
   ]
  },
  {
   "cell_type": "code",
   "execution_count": null,
   "metadata": {},
   "outputs": [],
   "source": [
    "# Import the two relevant csv files as dictionaries \n",
    "flowst1 = pd.read_csv('datasets\\\\test1_flows.csv').to_dict('records')\n",
    "node_deft1 = pd.read_csv('datasets\\\\test1_nodes.csv').to_dict('records')\n",
    "datasett1 = Dataset.from_csv('datasets\\\\test1_flows.csv','datasets\\\\test1_nodes.csv')"
   ]
  },
  {
   "cell_type": "code",
   "execution_count": null,
   "metadata": {},
   "outputs": [],
   "source": [
    "# Generate the dataset required for plotting the diagram\n",
    "nodest1 = dm.generate_nodes(node_deft1)\n",
    "orderingt1 = dm.generate_ordering(node_deft1)\n",
    "orderingt1,nodest1,bundlest1 = dm.generate_waypoints_bundles(node_deft1, flowst1, orderingt1, nodest1)\n",
    "\n",
    "# Generate sankey data\n",
    "size = dict(width = 600, height = 500)\n",
    "flows_by_typet1 = datasett1.partition('type')\n",
    "sddt1 = SankeyDefinition(nodest1, bundlest1, orderingt1, flow_partition=flows_by_typet1)\n",
    "sankey_datat1 = weave(sddt1, datasett1)\n",
    "\n",
    "# Plot diagram\n",
    "sankey_datat1.to_widget(**size)"
   ]
  },
  {
   "cell_type": "code",
   "execution_count": null,
   "metadata": {},
   "outputs": [],
   "source": [
    "# Optimise the order of the nodes based off crossing area ONLY\n",
    "modelt1 = do.model_inputs(sankey_datat1)\n",
    "ordering_optimisedt1 = do.optimise_node_order(modelt1)\n",
    "\n",
    "# Evolve the diagram and plot optimised version\n",
    "sankey_data_evolvedt1 = evolve(sankey_datat1, ordering = ordering_optimisedt1)\n",
    "sankey_data_evolvedt1.to_widget(**size)"
   ]
  },
  {
   "cell_type": "markdown",
   "metadata": {},
   "source": [
    "## Example 1: Plotting the Global Flow of Steel Dataset"
   ]
  },
  {
   "cell_type": "code",
   "execution_count": 14,
   "metadata": {},
   "outputs": [],
   "source": [
    "# Import the two relevant csv files as dictionaries \n",
    "flows = pd.read_csv('datasets\\global_steel_flows.csv').to_dict('records')\n",
    "node_def = pd.read_csv('datasets\\global_steel_nodes.csv').to_dict('records')\n",
    "dataset = Dataset.from_csv('datasets\\global_steel_flows.csv','datasets\\global_steel_nodes.csv')"
   ]
  },
  {
   "cell_type": "code",
   "execution_count": 15,
   "metadata": {},
   "outputs": [
    {
     "ename": "ValueError",
     "evalue": "Unknown target \"FIC\" in bundle 5",
     "output_type": "error",
     "traceback": [
      "\u001b[1;31m---------------------------------------------------------------------------\u001b[0m",
      "\u001b[1;31mValueError\u001b[0m                                Traceback (most recent call last)",
      "\u001b[1;32m<ipython-input-15-a72e0e5a92ba>\u001b[0m in \u001b[0;36m<module>\u001b[1;34m\u001b[0m\n\u001b[0;32m      6\u001b[0m \u001b[1;31m# Generate sankey data\u001b[0m\u001b[1;33m\u001b[0m\u001b[1;33m\u001b[0m\u001b[1;33m\u001b[0m\u001b[0m\n\u001b[0;32m      7\u001b[0m \u001b[0msize\u001b[0m \u001b[1;33m=\u001b[0m \u001b[0mdict\u001b[0m\u001b[1;33m(\u001b[0m\u001b[0mwidth\u001b[0m \u001b[1;33m=\u001b[0m \u001b[1;36m1200\u001b[0m\u001b[1;33m,\u001b[0m \u001b[0mheight\u001b[0m \u001b[1;33m=\u001b[0m \u001b[1;36m500\u001b[0m\u001b[1;33m)\u001b[0m\u001b[1;33m\u001b[0m\u001b[1;33m\u001b[0m\u001b[0m\n\u001b[1;32m----> 8\u001b[1;33m \u001b[0msdd\u001b[0m \u001b[1;33m=\u001b[0m \u001b[0mSankeyDefinition\u001b[0m\u001b[1;33m(\u001b[0m\u001b[0mnodes\u001b[0m\u001b[1;33m,\u001b[0m \u001b[0mbundles\u001b[0m\u001b[1;33m,\u001b[0m \u001b[0mordering\u001b[0m\u001b[1;33m)\u001b[0m\u001b[1;33m\u001b[0m\u001b[1;33m\u001b[0m\u001b[0m\n\u001b[0m\u001b[0;32m      9\u001b[0m \u001b[0msankey_data\u001b[0m \u001b[1;33m=\u001b[0m \u001b[0mweave\u001b[0m\u001b[1;33m(\u001b[0m\u001b[0msdd\u001b[0m\u001b[1;33m,\u001b[0m \u001b[0mdataset\u001b[0m\u001b[1;33m)\u001b[0m\u001b[1;33m\u001b[0m\u001b[1;33m\u001b[0m\u001b[0m\n\u001b[0;32m     10\u001b[0m \u001b[1;33m\u001b[0m\u001b[0m\n",
      "\u001b[1;32m<attrs generated init floweaver.sankey_definition.SankeyDefinition>\u001b[0m in \u001b[0;36m__init__\u001b[1;34m(self, nodes, bundles, ordering, flow_selection, flow_partition, time_partition)\u001b[0m\n\u001b[0;32m      8\u001b[0m     \u001b[0m_setattr\u001b[0m\u001b[1;33m(\u001b[0m\u001b[1;34m'time_partition'\u001b[0m\u001b[1;33m,\u001b[0m \u001b[0mtime_partition\u001b[0m\u001b[1;33m)\u001b[0m\u001b[1;33m\u001b[0m\u001b[1;33m\u001b[0m\u001b[0m\n\u001b[0;32m      9\u001b[0m     \u001b[1;32mif\u001b[0m \u001b[0m_config\u001b[0m\u001b[1;33m.\u001b[0m\u001b[0m_run_validators\u001b[0m \u001b[1;32mis\u001b[0m \u001b[1;32mTrue\u001b[0m\u001b[1;33m:\u001b[0m\u001b[1;33m\u001b[0m\u001b[1;33m\u001b[0m\u001b[0m\n\u001b[1;32m---> 10\u001b[1;33m         \u001b[0m__attr_validator_bundles\u001b[0m\u001b[1;33m(\u001b[0m\u001b[0mself\u001b[0m\u001b[1;33m,\u001b[0m \u001b[0m__attr_bundles\u001b[0m\u001b[1;33m,\u001b[0m \u001b[0mself\u001b[0m\u001b[1;33m.\u001b[0m\u001b[0mbundles\u001b[0m\u001b[1;33m)\u001b[0m\u001b[1;33m\u001b[0m\u001b[1;33m\u001b[0m\u001b[0m\n\u001b[0m\u001b[0;32m     11\u001b[0m         \u001b[0m__attr_validator_ordering\u001b[0m\u001b[1;33m(\u001b[0m\u001b[0mself\u001b[0m\u001b[1;33m,\u001b[0m \u001b[0m__attr_ordering\u001b[0m\u001b[1;33m,\u001b[0m \u001b[0mself\u001b[0m\u001b[1;33m.\u001b[0m\u001b[0mordering\u001b[0m\u001b[1;33m)\u001b[0m\u001b[1;33m\u001b[0m\u001b[1;33m\u001b[0m\u001b[0m\n",
      "\u001b[1;32m~\\anaconda3\\lib\\site-packages\\floweaver\\sankey_definition.py\u001b[0m in \u001b[0;36m_validate_bundles\u001b[1;34m(instance, attribute, bundles)\u001b[0m\n\u001b[0;32m     32\u001b[0m         \u001b[1;32mif\u001b[0m \u001b[1;32mnot\u001b[0m \u001b[0mb\u001b[0m\u001b[1;33m.\u001b[0m\u001b[0mto_elsewhere\u001b[0m\u001b[1;33m:\u001b[0m\u001b[1;33m\u001b[0m\u001b[1;33m\u001b[0m\u001b[0m\n\u001b[0;32m     33\u001b[0m             \u001b[1;32mif\u001b[0m \u001b[0mb\u001b[0m\u001b[1;33m.\u001b[0m\u001b[0mtarget\u001b[0m \u001b[1;32mnot\u001b[0m \u001b[1;32min\u001b[0m \u001b[0minstance\u001b[0m\u001b[1;33m.\u001b[0m\u001b[0mnodes\u001b[0m\u001b[1;33m:\u001b[0m\u001b[1;33m\u001b[0m\u001b[1;33m\u001b[0m\u001b[0m\n\u001b[1;32m---> 34\u001b[1;33m                 raise ValueError('Unknown target \"{}\" in bundle {}'.format(\n\u001b[0m\u001b[0;32m     35\u001b[0m                     b.target, k))\n\u001b[0;32m     36\u001b[0m             \u001b[1;32mif\u001b[0m \u001b[1;32mnot\u001b[0m \u001b[0misinstance\u001b[0m\u001b[1;33m(\u001b[0m\u001b[0minstance\u001b[0m\u001b[1;33m.\u001b[0m\u001b[0mnodes\u001b[0m\u001b[1;33m[\u001b[0m\u001b[0mb\u001b[0m\u001b[1;33m.\u001b[0m\u001b[0mtarget\u001b[0m\u001b[1;33m]\u001b[0m\u001b[1;33m,\u001b[0m \u001b[0mProcessGroup\u001b[0m\u001b[1;33m)\u001b[0m\u001b[1;33m:\u001b[0m\u001b[1;33m\u001b[0m\u001b[1;33m\u001b[0m\u001b[0m\n",
      "\u001b[1;31mValueError\u001b[0m: Unknown target \"FIC\" in bundle 5"
     ]
    }
   ],
   "source": [
    "# Generate the dataset required for plotting the diagram\n",
    "nodes = dm.generate_nodes(node_def, group_by='type', partition_groups=None)\n",
    "ordering = dm.generate_ordering(node_def, group_by='type')\n",
    "ordering,nodes,bundles = dm.generate_waypoints_bundles(node_def, flows, ordering, nodes)\n",
    "\n",
    "# Generate sankey data\n",
    "size = dict(width = 1200, height = 500)\n",
    "sdd = SankeyDefinition(nodes, bundles, ordering)\n",
    "sankey_data = weave(sdd, dataset)\n",
    "\n",
    "# Plot diagram\n",
    "sankey_data.to_widget(**size)"
   ]
  },
  {
   "cell_type": "code",
   "execution_count": null,
   "metadata": {},
   "outputs": [],
   "source": [
    "nodes"
   ]
  },
  {
   "cell_type": "code",
   "execution_count": null,
   "metadata": {},
   "outputs": [],
   "source": [
    "# Optimise the order of the nodes based off crossing area ONLY\n",
    "model = do.model_inputs(sankey_data)\n",
    "ordering_optimised = do.optimise_node_order(model)\n",
    "\n",
    "# Evolve the diagram and plot optimised version\n",
    "from attr import evolve\n",
    "sankey_data_evolved = evolve(sankey_data, ordering = ordering_optimised)\n",
    "sankey_data_evolved.to_widget(**size)"
   ]
  },
  {
   "cell_type": "markdown",
   "metadata": {},
   "source": [
    "## Example 2: Synthetic Flow of Food Dataset"
   ]
  },
  {
   "cell_type": "code",
   "execution_count": 3,
   "metadata": {},
   "outputs": [],
   "source": [
    "# Import the two relevant csv files as dictionaries \n",
    "flows2 = pd.read_csv('datasets\\\\food_flows_table.csv').to_dict('records')\n",
    "node_def2 = pd.read_csv('datasets\\\\food_nodes_table.csv').to_dict('records')\n",
    "dataset2 = Dataset.from_csv('datasets\\\\food_flows_table.csv','datasets\\\\food_nodes_table.csv')"
   ]
  },
  {
   "cell_type": "code",
   "execution_count": null,
   "metadata": {},
   "outputs": [],
   "source": []
  },
  {
   "cell_type": "code",
   "execution_count": 7,
   "metadata": {},
   "outputs": [
    {
     "data": {
      "application/vnd.jupyter.widget-view+json": {
       "model_id": "7257c888ded04676a48f703ed271ea17",
       "version_major": 2,
       "version_minor": 0
      },
      "text/plain": [
       "SankeyWidget(groups=[{'id': 'farm', 'type': 'process', 'title': '', 'nodes': ['farm^farm1', 'farm^farm2', 'far…"
      ]
     },
     "metadata": {},
     "output_type": "display_data"
    }
   ],
   "source": [
    "# Generate the dataset required for plotting the diagram\n",
    "nodes2 = dm.generate_nodes(node_def2, group_by='type', partition_groups=['farm'])\n",
    "ordering2 = dm.generate_ordering(node_def2, group_by='type')\n",
    "ordering2,nodes2,bundles2 = dm.generate_waypoints_bundles(node_def2, flows2, ordering2, nodes2, group_by='type')\n",
    "\n",
    "# Generate sankey data\n",
    "size = dict(width = 600, height = 500)\n",
    "flows_by_type = dataset2.partition('type')\n",
    "sdd2 = SankeyDefinition(nodes2, bundles2, ordering2, flow_partition=flows_by_type)\n",
    "sankey_data2 = weave(sdd2, dataset2)\n",
    "\n",
    "# Plot diagram\n",
    "sankey_data2.to_widget(**size)"
   ]
  },
  {
   "cell_type": "code",
   "execution_count": 9,
   "metadata": {},
   "outputs": [
    {
     "data": {
      "application/vnd.jupyter.widget-view+json": {
       "model_id": "f7e388291b4d4ecb9655e54289c70dc0",
       "version_major": 2,
       "version_minor": 0
      },
      "text/plain": [
       "SankeyWidget(groups=[{'id': 'farm', 'type': 'process', 'title': '', 'nodes': ['farm^farm1', 'farm^farm2', 'far…"
      ]
     },
     "metadata": {},
     "output_type": "display_data"
    }
   ],
   "source": [
    "# Optimise the order of the nodes based off crossing area ONLY\n",
    "model2 = do.model_inputs(sankey_data2, group_nodes=True)\n",
    "\n",
    "# # Define the node grouping model inputs here\n",
    "# groups = {\n",
    "#     'farms': ['farm1^*','farm2^*','farm3^*'],\n",
    "#     'imports': ['import1^*','import2^*'],\n",
    "#     'factories': ['factory1^*','factory2^*'],\n",
    "#     'restaurants': ['restaurant1^*','restaurant2^*'],\n",
    "#     'shops': ['shop1^*','shop2^*'],\n",
    "# }\n",
    "\n",
    "# group_ordering = [\n",
    "#     ['farms','imports'],\n",
    "#     ['factories','restaurants','shops'],\n",
    "#     []\n",
    "# ]\n",
    "\n",
    "# model2['group_ordering'] = group_ordering\n",
    "# model2['groups'] = groups\n",
    "\n",
    "ordering_optimised2 = do.optimise_node_order(model2, group_nodes = True)\n",
    "\n",
    "# Evolve the diagram and plot optimised version\n",
    "sankey_data_evolved2 = evolve(sankey_data2, ordering = ordering_optimised2)\n",
    "sankey_data_evolved2.to_widget(**size)"
   ]
  }
 ],
 "metadata": {
  "kernelspec": {
   "display_name": "Python 3",
   "language": "python",
   "name": "python3"
  },
  "language_info": {
   "codemirror_mode": {
    "name": "ipython",
    "version": 3
   },
   "file_extension": ".py",
   "mimetype": "text/x-python",
   "name": "python",
   "nbconvert_exporter": "python",
   "pygments_lexer": "ipython3",
   "version": "3.8.5"
  }
 },
 "nbformat": 4,
 "nbformat_minor": 4
}
