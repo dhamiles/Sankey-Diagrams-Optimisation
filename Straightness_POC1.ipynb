{
 "cells": [
  {
   "cell_type": "code",
   "execution_count": 1,
   "metadata": {},
   "outputs": [],
   "source": [
    "## Simple test for the straightness model\n",
    "from mip import *\n",
    "\n",
    "m = Model(\"Sankey\")"
   ]
  },
  {
   "cell_type": "code",
   "execution_count": 2,
   "metadata": {},
   "outputs": [],
   "source": [
    "# Declare the constants\n",
    "w = [\n",
    "    5,\n",
    "    7,\n",
    "    5,\n",
    "    7\n",
    "]\n",
    "\n",
    "dlb = 1"
   ]
  },
  {
   "cell_type": "code",
   "execution_count": 3,
   "metadata": {},
   "outputs": [],
   "source": [
    "# Create all variables\n",
    "y = [\n",
    "    m.add_var(var_type = CONTINUOUS),\n",
    "    m.add_var(var_type = CONTINUOUS),\n",
    "    m.add_var(var_type = CONTINUOUS),\n",
    "    m.add_var(var_type = CONTINUOUS)\n",
    "]\n",
    "\n",
    "s02 = m.add_var(var_type = CONTINUOUS)\n",
    "s13 = m.add_var(var_type = CONTINUOUS)\n",
    "\n",
    "do0 = m.add_var(var_type = CONTINUOUS, lb = 0)\n",
    "do1 = m.add_var(var_type = CONTINUOUS, lb = 0)\n",
    "\n",
    "d01 = m.add_var(var_type = CONTINUOUS, lb = dlb)\n",
    "d23 = m.add_var(var_type = CONTINUOUS, lb = dlb)"
   ]
  },
  {
   "cell_type": "code",
   "execution_count": 4,
   "metadata": {},
   "outputs": [],
   "source": [
    "# Create all constraints\n",
    "m += (y[0] == do0)\n",
    "m += (y[1] == do0 + w[0] + d01)\n",
    "m += (y[2] == do1)\n",
    "m += (y[3] == do1 + w[2] + d23)\n",
    "\n",
    "m += (s02 >= y[0] - y[2])\n",
    "m += (s02 >= -(y[0] - y[2]))\n",
    "\n",
    "m += (s13 == y[1] - y[3])\n",
    "m += (s13 >= -(y[1] - y[3]))\n"
   ]
  },
  {
   "cell_type": "code",
   "execution_count": 5,
   "metadata": {},
   "outputs": [],
   "source": [
    "# Objective function\n",
    "m.objective = minimize(s02 + s13)"
   ]
  },
  {
   "cell_type": "code",
   "execution_count": 6,
   "metadata": {},
   "outputs": [],
   "source": [
    "status = m.optimize()"
   ]
  },
  {
   "cell_type": "code",
   "execution_count": 14,
   "metadata": {},
   "outputs": [
    {
     "data": {
      "text/plain": [
       "6.0"
      ]
     },
     "execution_count": 14,
     "metadata": {},
     "output_type": "execute_result"
    }
   ],
   "source": [
    "y[3].x"
   ]
  },
  {
   "cell_type": "code",
   "execution_count": null,
   "metadata": {},
   "outputs": [],
   "source": []
  }
 ],
 "metadata": {
  "kernelspec": {
   "display_name": "Python 3",
   "language": "python",
   "name": "python3"
  },
  "language_info": {
   "codemirror_mode": {
    "name": "ipython",
    "version": 3
   },
   "file_extension": ".py",
   "mimetype": "text/x-python",
   "name": "python",
   "nbconvert_exporter": "python",
   "pygments_lexer": "ipython3",
   "version": "3.8.5"
  }
 },
 "nbformat": 4,
 "nbformat_minor": 4
}
