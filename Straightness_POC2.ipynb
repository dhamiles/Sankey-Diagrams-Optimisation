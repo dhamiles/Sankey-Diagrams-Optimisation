{
 "cells": [
  {
   "cell_type": "code",
   "execution_count": 1,
   "metadata": {},
   "outputs": [],
   "source": [
    "from mip import *\n",
    "\n",
    "m = Model(\"Sankey\")"
   ]
  },
  {
   "cell_type": "code",
   "execution_count": 2,
   "metadata": {},
   "outputs": [],
   "source": [
    "# Declare the constants\n",
    "wn = [\n",
    "    13,\n",
    "    8,\n",
    "    6,\n",
    "    9,\n",
    "    10,\n",
    "    12,\n",
    "    6,\n",
    "    6,\n",
    "    8\n",
    "]\n",
    "\n",
    "w = {\n",
    "    '03':5,\n",
    "    '04':2,\n",
    "    '05':6,\n",
    "    '14':8,\n",
    "    '25':6,\n",
    "    '36':6,\n",
    "    '37':3,\n",
    "    '48':4,\n",
    "    '57':3,\n",
    "    '58':4\n",
    "}\n",
    "\n",
    "dlb = 1"
   ]
  },
  {
   "cell_type": "code",
   "execution_count": 3,
   "metadata": {},
   "outputs": [],
   "source": [
    "# Create variables\n",
    "\n",
    "y = [\n",
    "    m.add_var(var_type = CONTINUOUS),\n",
    "    m.add_var(var_type = CONTINUOUS),\n",
    "    m.add_var(var_type = CONTINUOUS),\n",
    "    m.add_var(var_type = CONTINUOUS),\n",
    "    m.add_var(var_type = CONTINUOUS),\n",
    "    m.add_var(var_type = CONTINUOUS),\n",
    "    m.add_var(var_type = CONTINUOUS),\n",
    "    m.add_var(var_type = CONTINUOUS),\n",
    "    m.add_var(var_type = CONTINUOUS)\n",
    "]\n",
    "\n",
    "d = {\n",
    "    'o0':m.add_var(var_type = CONTINUOUS, lb = 0),\n",
    "    '01':m.add_var(var_type = CONTINUOUS, lb = dlb),\n",
    "    '12':m.add_var(var_type = CONTINUOUS, lb = dlb),\n",
    "    'o1':m.add_var(var_type = CONTINUOUS, lb = 0),\n",
    "    '34':m.add_var(var_type = CONTINUOUS, lb = dlb),\n",
    "    '45':m.add_var(var_type = CONTINUOUS, lb = dlb),\n",
    "    'o2':m.add_var(var_type = CONTINUOUS, lb = 0),\n",
    "    '67':m.add_var(var_type = CONTINUOUS, lb = dlb),\n",
    "    '78':m.add_var(var_type = CONTINUOUS, lb = dlb)\n",
    "}\n",
    "\n",
    "s = {\n",
    "    '03':m.add_var(var_type = CONTINUOUS),\n",
    "    '04':m.add_var(var_type = CONTINUOUS),\n",
    "    '05':m.add_var(var_type = CONTINUOUS),\n",
    "    '14':m.add_var(var_type = CONTINUOUS),\n",
    "    '25':m.add_var(var_type = CONTINUOUS),\n",
    "    '36':m.add_var(var_type = CONTINUOUS),\n",
    "    '37':m.add_var(var_type = CONTINUOUS),\n",
    "    '48':m.add_var(var_type = CONTINUOUS),\n",
    "    '57':m.add_var(var_type = CONTINUOUS),\n",
    "    '58':m.add_var(var_type = CONTINUOUS)\n",
    "}\n"
   ]
  },
  {
   "cell_type": "code",
   "execution_count": 4,
   "metadata": {},
   "outputs": [],
   "source": [
    "# Create the constraints for linking y values\n",
    "\n",
    "m += (y[0] == d['o0'])\n",
    "m += (y[1] == d['o0'] + wn[0] + d['01'])\n",
    "m += (y[2] == d['o0'] + wn[0] + d['01'] + wn[1] + d['12'])\n",
    "m += (y[3] == d['o1'])\n",
    "m += (y[4] == d['o1'] + wn[3] + d['34'])\n",
    "m += (y[5] == d['o1'] + wn[3] + d['34'] + wn[4] + d['45'])\n",
    "m += (y[6] == d['o2'])\n",
    "m += (y[7] == d['o2'] + wn[6] + d['67'])\n",
    "m += (y[8] == d['o2'] + wn[6] + d['67'] + wn[7] + d['78'])"
   ]
  },
  {
   "cell_type": "code",
   "execution_count": 5,
   "metadata": {},
   "outputs": [],
   "source": [
    "# Straightness constraints\n",
    "\n",
    "m += (s['03'] >= y[0] - y[3])\n",
    "m += (s['03'] >= -(y[0] - y[3]))\n",
    "m += (s['04'] >= y[0] - y[4])\n",
    "m += (s['04'] >= -(y[0] - y[4]))\n",
    "m += (s['05'] >= y[0] - y[5])\n",
    "m += (s['05'] >= -(y[0] - y[5]))\n",
    "m += (s['14'] >= y[1] - y[4])\n",
    "m += (s['14'] >= -(y[1] - y[4]))\n",
    "m += (s['25'] >= y[2] - y[5])\n",
    "m += (s['25'] >= -(y[2] - y[5]))\n",
    "m += (s['36'] >= y[3] - y[6])\n",
    "m += (s['36'] >= -(y[3] - y[6]))\n",
    "m += (s['37'] >= y[3] - y[7])\n",
    "m += (s['37'] >= -(y[3] - y[7]))\n",
    "m += (s['48'] >= y[4] - y[8])\n",
    "m += (s['48'] >= -(y[4] - y[8]))\n",
    "m += (s['57'] >= y[5] - y[7])\n",
    "m += (s['57'] >= -(y[5] - y[7]))\n",
    "m += (s['58'] >= y[5] - y[8])\n",
    "m += (s['58'] >= -(y[5] - y[8]))\n"
   ]
  },
  {
   "cell_type": "code",
   "execution_count": 6,
   "metadata": {},
   "outputs": [],
   "source": [
    "# Layer constraints\n",
    "\n",
    "m += (y[1] >= y[0])\n",
    "m += (y[1] >= y[3])\n",
    "m += (y[1] >= y[4])\n",
    "m += (y[1] >= y[6])\n",
    "m += (y[1] >= y[7])\n",
    "m += (y[2] >= y[0])\n",
    "m += (y[2] >= y[3])\n",
    "m += (y[2] >= y[4])\n",
    "m += (y[2] >= y[6])\n",
    "m += (y[2] >= y[7])\n",
    "m += (y[5] >= y[0])\n",
    "m += (y[5] >= y[3])\n",
    "m += (y[5] >= y[4])\n",
    "m += (y[5] >= y[6])\n",
    "m += (y[5] >= y[7])\n",
    "m += (y[8] >= y[0])\n",
    "m += (y[8] >= y[3])\n",
    "m += (y[8] >= y[4])\n",
    "m += (y[8] >= y[6])\n",
    "m += (y[8] >= y[7])\n"
   ]
  },
  {
   "cell_type": "code",
   "execution_count": 7,
   "metadata": {},
   "outputs": [],
   "source": [
    "# Objective function\n",
    "m.objective = minimize( xsum(s[flow]*w[flow] for flow in s.keys()) )"
   ]
  },
  {
   "cell_type": "code",
   "execution_count": 8,
   "metadata": {},
   "outputs": [],
   "source": [
    "status = m.optimize()"
   ]
  },
  {
   "cell_type": "code",
   "execution_count": 9,
   "metadata": {},
   "outputs": [
    {
     "data": {
      "text/plain": [
       "14.0"
      ]
     },
     "execution_count": 9,
     "metadata": {},
     "output_type": "execute_result"
    }
   ],
   "source": [
    "y[8].x"
   ]
  },
  {
   "cell_type": "code",
   "execution_count": 10,
   "metadata": {},
   "outputs": [
    {
     "data": {
      "text/plain": [
       "0.0"
      ]
     },
     "execution_count": 10,
     "metadata": {},
     "output_type": "execute_result"
    }
   ],
   "source": [
    "y[3].x"
   ]
  },
  {
   "cell_type": "code",
   "execution_count": 11,
   "metadata": {},
   "outputs": [
    {
     "name": "stdout",
     "output_type": "stream",
     "text": [
      "1 2\n",
      "2 3\n",
      "3 4\n",
      "4 5\n",
      "5 6\n"
     ]
    }
   ],
   "source": [
    "lists = [1,2,3,4,5,6]\n",
    "\n",
    "for i in range(len(lists)):\n",
    "    if i+1 != len(lists):\n",
    "        print(lists[i],lists[i+1])"
   ]
  },
  {
   "cell_type": "code",
   "execution_count": 12,
   "metadata": {},
   "outputs": [
    {
     "data": {
      "text/plain": [
       "6"
      ]
     },
     "execution_count": 12,
     "metadata": {},
     "output_type": "execute_result"
    }
   ],
   "source": [
    "len(lists)"
   ]
  },
  {
   "cell_type": "code",
   "execution_count": 13,
   "metadata": {},
   "outputs": [
    {
     "name": "stdout",
     "output_type": "stream",
     "text": [
      "index: 0, node: 1\n",
      "index: 1, node: 2\n",
      "index: 2, node: 3\n",
      "index: 3, node: 4\n",
      "index: 4, node: 5\n",
      "index: 5, node: 6\n"
     ]
    }
   ],
   "source": [
    "for i,node in enumerate(lists):\n",
    "    print(f'index: {i}, node: {node}')"
   ]
  },
  {
   "cell_type": "code",
   "execution_count": 14,
   "metadata": {},
   "outputs": [
    {
     "name": "stdout",
     "output_type": "stream",
     "text": [
      "0\n",
      "1\n",
      "2\n",
      "3\n",
      "4\n"
     ]
    }
   ],
   "source": [
    "for i in range(5):\n",
    "    print(i)"
   ]
  },
  {
   "cell_type": "code",
   "execution_count": 15,
   "metadata": {},
   "outputs": [],
   "source": [
    "import ilp_code.dataset_manipulation as dm\n",
    "import ilp_code.diagram_optimisation as do\n",
    "import pandas as pd\n",
    "from floweaver import *\n",
    "from attr import evolve"
   ]
  },
  {
   "cell_type": "code",
   "execution_count": 16,
   "metadata": {},
   "outputs": [],
   "source": [
    "# Import the two relevant csv files as dictionaries \n",
    "flowst1 = pd.read_csv('datasets\\\\m3_t1_flows.csv').to_dict('records')\n",
    "node_deft1 = pd.read_csv('datasets\\\\m3_t1_nodes.csv').to_dict('records')\n",
    "datasett1 = Dataset.from_csv('datasets\\\\m3_t1_flows.csv','datasets\\\\m3_t1_nodes.csv')"
   ]
  },
  {
   "cell_type": "code",
   "execution_count": 17,
   "metadata": {},
   "outputs": [
    {
     "data": {
      "application/vnd.jupyter.widget-view+json": {
       "model_id": "00ab7a2287aa4007b3b3c4475cbe9535",
       "version_major": 2,
       "version_minor": 0
      },
      "text/plain": [
       "SankeyWidget(layout=Layout(height='500', width='600'), links=[{'source': 'n0^*', 'target': 'n3^*', 'type': '*'…"
      ]
     },
     "metadata": {},
     "output_type": "display_data"
    }
   ],
   "source": [
    "# Generate the dataset required for plotting the diagram\n",
    "nodest1 = dm.generate_nodes(node_deft1)\n",
    "orderingt1 = dm.generate_ordering(node_deft1)\n",
    "orderingt1,nodest1,bundlest1 = dm.generate_waypoints_bundles(node_deft1, flowst1, orderingt1, nodest1)\n",
    "\n",
    "# Generate sankey data\n",
    "size = dict(width = 600, height = 500)\n",
    "sddt1 = SankeyDefinition(nodest1, bundlest1, orderingt1)\n",
    "sankey_datat1 = weave(sddt1, datasett1)\n",
    "\n",
    "# Plot diagram\n",
    "sankey_datat1.to_widget(**size)"
   ]
  },
  {
   "cell_type": "code",
   "execution_count": 18,
   "metadata": {},
   "outputs": [
    {
     "data": {
      "application/vnd.jupyter.widget-view+json": {
       "model_id": "b308903567094178981e45ba58c5d59e",
       "version_major": 2,
       "version_minor": 0
      },
      "text/plain": [
       "SankeyWidget(layout=Layout(height='500', width='600'), links=[{'source': 'n0^*', 'target': 'n3^*', 'type': '*'…"
      ]
     },
     "metadata": {},
     "output_type": "display_data"
    }
   ],
   "source": [
    "# Optimise the order of the nodes based off crossing area ONLY\n",
    "modelt1 = do.model_inputs(sankey_datat1)\n",
    "ordering_optimisedt1 = do.optimise_node_order(modelt1)\n",
    "\n",
    "# Evolve the diagram and plot optimised version\n",
    "sankey_data_evolvedt1 = evolve(sankey_datat1, ordering = ordering_optimisedt1)\n",
    "sankey_data_evolvedt1.to_widget(**size)"
   ]
  },
  {
   "cell_type": "code",
   "execution_count": 19,
   "metadata": {},
   "outputs": [],
   "source": [
    "smodel = do.straightness_model(sankey_datat1)"
   ]
  },
  {
   "cell_type": "code",
   "execution_count": 20,
   "metadata": {},
   "outputs": [],
   "source": [
    "ys = do.optimise_position(smodel)"
   ]
  },
  {
   "cell_type": "code",
   "execution_count": 21,
   "metadata": {},
   "outputs": [
    {
     "data": {
      "text/plain": [
       "{'n0^*': 0.0,\n",
       " 'n1^*': 14.0,\n",
       " 'n2^*': 23.0,\n",
       " 'n3^*': 0.0,\n",
       " 'n4^*': 12.0,\n",
       " 'n5^*': 23.0,\n",
       " 'n6^*': 0.0,\n",
       " 'n7^*': 7.0,\n",
       " 'n8^*': 14.0}"
      ]
     },
     "execution_count": 21,
     "metadata": {},
     "output_type": "execute_result"
    }
   ],
   "source": [
    "ys"
   ]
  },
  {
   "cell_type": "code",
   "execution_count": 23,
   "metadata": {},
   "outputs": [
    {
     "data": {
      "application/vnd.jupyter.widget-view+json": {
       "model_id": "63e4135374e9448cbe7849f5613970b4",
       "version_major": 2,
       "version_minor": 0
      },
      "text/plain": [
       "SankeyWidget(layout=Layout(height='500', width='600'), links=[{'source': 'n0^*', 'target': 'n3^*', 'type': '*'…"
      ]
     },
     "metadata": {},
     "output_type": "display_data"
    }
   ],
   "source": [
    "sankey_data_evolvedt1.to_widget(**size)"
   ]
  },
  {
   "cell_type": "code",
   "execution_count": 78,
   "metadata": {},
   "outputs": [],
   "source": [
    "from ipysankeywidget import SankeyWidget\n",
    "from ipywidgets import Layout, Output\n",
    "\n",
    "def show_widget(\n",
    "        sdd,\n",
    "        width=700,\n",
    "        height=500,\n",
    "        margins=None,\n",
    "        align_link_types=False,\n",
    "        link_label_format=\"\",\n",
    "        link_label_min_width=5,\n",
    "        debugging=False,\n",
    "        forceY=None\n",
    "    ):\n",
    "\n",
    "        if SankeyWidget is None:\n",
    "            raise RuntimeError(\"ipysankeywidget is required\")\n",
    "\n",
    "        if margins is None:\n",
    "            margins = {\n",
    "                \"top\": 25,\n",
    "                \"bottom\": 10,\n",
    "                \"left\": 130,\n",
    "                \"right\": 130,\n",
    "            }\n",
    "\n",
    "        value = sdd.to_json(format=\"widget\")\n",
    "        \n",
    "        new_nodes = []\n",
    "        if forceY is not None:\n",
    "            for node in value['nodes']:\n",
    "                node['forceY'] = forceY[node['id']]\n",
    "\n",
    "        widget = SankeyWidget(\n",
    "            nodes=value[\"nodes\"],\n",
    "            links=value[\"links\"],\n",
    "            order=value[\"order\"],\n",
    "            groups=value[\"groups\"],\n",
    "            align_link_types=align_link_types,\n",
    "            linkLabelFormat=link_label_format,\n",
    "            linkLabelMinWidth=link_label_min_width,\n",
    "            layout= Layout(width=str(width), height=str(height)),\n",
    "            margins=margins,\n",
    "        )\n",
    "        \n",
    "        return widget, value['nodes']"
   ]
  },
  {
   "cell_type": "code",
   "execution_count": 82,
   "metadata": {},
   "outputs": [],
   "source": [
    "w, ns = show_widget(sankey_data_evolvedt1, forceY = ys, height = 500)\n"
   ]
  },
  {
   "cell_type": "code",
   "execution_count": 83,
   "metadata": {},
   "outputs": [
    {
     "data": {
      "application/vnd.jupyter.widget-view+json": {
       "model_id": "75af77bd0f09491197f11b3b7c780886",
       "version_major": 2,
       "version_minor": 0
      },
      "text/plain": [
       "SankeyWidget(layout=Layout(height='500', width='700'), links=[{'source': 'n0^*', 'target': 'n3^*', 'type': '*'…"
      ]
     },
     "metadata": {},
     "output_type": "display_data"
    }
   ],
   "source": [
    "w"
   ]
  },
  {
   "cell_type": "code",
   "execution_count": 81,
   "metadata": {},
   "outputs": [
    {
     "data": {
      "text/plain": [
       "[{'id': 'n0^*',\n",
       "  'title': 'n0',\n",
       "  'direction': 'r',\n",
       "  'hidden': False,\n",
       "  'type': 'process',\n",
       "  'forceY': 0.0},\n",
       " {'id': 'n1^*',\n",
       "  'title': 'n1',\n",
       "  'direction': 'r',\n",
       "  'hidden': False,\n",
       "  'type': 'process',\n",
       "  'forceY': 14.0},\n",
       " {'id': 'n2^*',\n",
       "  'title': 'n2',\n",
       "  'direction': 'r',\n",
       "  'hidden': False,\n",
       "  'type': 'process',\n",
       "  'forceY': 23.0},\n",
       " {'id': 'n3^*',\n",
       "  'title': 'n3',\n",
       "  'direction': 'r',\n",
       "  'hidden': False,\n",
       "  'type': 'process',\n",
       "  'forceY': 0.0},\n",
       " {'id': 'n4^*',\n",
       "  'title': 'n4',\n",
       "  'direction': 'r',\n",
       "  'hidden': False,\n",
       "  'type': 'process',\n",
       "  'forceY': 12.0},\n",
       " {'id': 'n5^*',\n",
       "  'title': 'n5',\n",
       "  'direction': 'r',\n",
       "  'hidden': False,\n",
       "  'type': 'process',\n",
       "  'forceY': 23.0},\n",
       " {'id': 'n6^*',\n",
       "  'title': 'n6',\n",
       "  'direction': 'r',\n",
       "  'hidden': False,\n",
       "  'type': 'process',\n",
       "  'forceY': 0.0},\n",
       " {'id': 'n7^*',\n",
       "  'title': 'n7',\n",
       "  'direction': 'r',\n",
       "  'hidden': False,\n",
       "  'type': 'process',\n",
       "  'forceY': 7.0},\n",
       " {'id': 'n8^*',\n",
       "  'title': 'n8',\n",
       "  'direction': 'r',\n",
       "  'hidden': False,\n",
       "  'type': 'process',\n",
       "  'forceY': 14.0}]"
      ]
     },
     "execution_count": 81,
     "metadata": {},
     "output_type": "execute_result"
    }
   ],
   "source": [
    "ns"
   ]
  },
  {
   "cell_type": "code",
   "execution_count": null,
   "metadata": {},
   "outputs": [],
   "source": []
  }
 ],
 "metadata": {
  "kernelspec": {
   "display_name": "Python 3",
   "language": "python",
   "name": "python3"
  },
  "language_info": {
   "codemirror_mode": {
    "name": "ipython",
    "version": 3
   },
   "file_extension": ".py",
   "mimetype": "text/x-python",
   "name": "python",
   "nbconvert_exporter": "python",
   "pygments_lexer": "ipython3",
   "version": "3.8.5"
  }
 },
 "nbformat": 4,
 "nbformat_minor": 4
}
