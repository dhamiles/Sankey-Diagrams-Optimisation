{
 "cells": [
  {
   "cell_type": "code",
   "execution_count": 1,
   "metadata": {},
   "outputs": [],
   "source": [
    "from mip import *\n",
    "\n",
    "m = Model(\"Sankey\")"
   ]
  },
  {
   "cell_type": "code",
   "execution_count": 2,
   "metadata": {},
   "outputs": [],
   "source": [
    "# Declare the constants\n",
    "wn = [\n",
    "    13,\n",
    "    8,\n",
    "    6,\n",
    "    9,\n",
    "    10,\n",
    "    12,\n",
    "    6,\n",
    "    6,\n",
    "    8\n",
    "]\n",
    "\n",
    "w = {\n",
    "    '03':5,\n",
    "    '04':2,\n",
    "    '05':6,\n",
    "    '14':8,\n",
    "    '25':6,\n",
    "    '36':6,\n",
    "    '37':3,\n",
    "    '48':4,\n",
    "    '57':3,\n",
    "    '58':4\n",
    "}\n",
    "\n",
    "dlb = 3"
   ]
  },
  {
   "cell_type": "code",
   "execution_count": 3,
   "metadata": {},
   "outputs": [],
   "source": [
    "# Create variables\n",
    "\n",
    "y = [\n",
    "    m.add_var(var_type = CONTINUOUS),\n",
    "    m.add_var(var_type = CONTINUOUS),\n",
    "    m.add_var(var_type = CONTINUOUS),\n",
    "    m.add_var(var_type = CONTINUOUS),\n",
    "    m.add_var(var_type = CONTINUOUS),\n",
    "    m.add_var(var_type = CONTINUOUS),\n",
    "    m.add_var(var_type = CONTINUOUS),\n",
    "    m.add_var(var_type = CONTINUOUS),\n",
    "    m.add_var(var_type = CONTINUOUS)\n",
    "]\n",
    "\n",
    "d = {\n",
    "    'o0':m.add_var(var_type = CONTINUOUS, lb = 0),\n",
    "    '01':m.add_var(var_type = CONTINUOUS, lb = dlb),\n",
    "    '12':m.add_var(var_type = CONTINUOUS, lb = dlb),\n",
    "    'o1':m.add_var(var_type = CONTINUOUS, lb = 0),\n",
    "    '34':m.add_var(var_type = CONTINUOUS, lb = dlb),\n",
    "    '45':m.add_var(var_type = CONTINUOUS, lb = dlb),\n",
    "    'o2':m.add_var(var_type = CONTINUOUS, lb = 0),\n",
    "    '67':m.add_var(var_type = CONTINUOUS, lb = dlb),\n",
    "    '78':m.add_var(var_type = CONTINUOUS, lb = dlb)\n",
    "}\n",
    "\n",
    "s = {\n",
    "    '03':m.add_var(var_type = CONTINUOUS),\n",
    "    '04':m.add_var(var_type = CONTINUOUS),\n",
    "    '05':m.add_var(var_type = CONTINUOUS),\n",
    "    '14':m.add_var(var_type = CONTINUOUS),\n",
    "    '25':m.add_var(var_type = CONTINUOUS),\n",
    "    '36':m.add_var(var_type = CONTINUOUS),\n",
    "    '37':m.add_var(var_type = CONTINUOUS),\n",
    "    '48':m.add_var(var_type = CONTINUOUS),\n",
    "    '57':m.add_var(var_type = CONTINUOUS),\n",
    "    '58':m.add_var(var_type = CONTINUOUS)\n",
    "}\n"
   ]
  },
  {
   "cell_type": "code",
   "execution_count": 4,
   "metadata": {},
   "outputs": [],
   "source": [
    "# Create the constraints for linking y values\n",
    "\n",
    "m += (y[0] == d['o0'])\n",
    "m += (y[1] == d['o0'] + wn[0] + d['01'])\n",
    "m += (y[2] == d['o0'] + wn[0] + d['01'] + wn[1] + d['12'])\n",
    "m += (y[3] == d['o1'])\n",
    "m += (y[4] == d['o1'] + wn[3] + d['34'])\n",
    "m += (y[5] == d['o1'] + wn[3] + d['34'] + wn[4] + d['45'])\n",
    "m += (y[6] == d['o2'])\n",
    "m += (y[7] == d['o2'] + wn[6] + d['67'])\n",
    "m += (y[8] == d['o2'] + wn[6] + d['67'] + wn[7] + d['78'])"
   ]
  },
  {
   "cell_type": "code",
   "execution_count": 5,
   "metadata": {},
   "outputs": [],
   "source": [
    "# Straightness constraints\n",
    "\n",
    "m += (s['03'] >= y[0] - y[3])\n",
    "m += (s['03'] >= -(y[0] - y[3]))\n",
    "m += (s['04'] >= y[0] - y[4])\n",
    "m += (s['04'] >= -(y[0] - y[4]))\n",
    "m += (s['05'] >= y[0] - y[5])\n",
    "m += (s['05'] >= -(y[0] - y[5]))\n",
    "m += (s['14'] >= y[1] - y[4])\n",
    "m += (s['14'] >= -(y[1] - y[4]))\n",
    "m += (s['25'] >= y[2] - y[5])\n",
    "m += (s['25'] >= -(y[2] - y[5]))\n",
    "m += (s['36'] >= y[3] - y[6])\n",
    "m += (s['36'] >= -(y[3] - y[6]))\n",
    "m += (s['37'] >= y[3] - y[7])\n",
    "m += (s['37'] >= -(y[3] - y[7]))\n",
    "m += (s['48'] >= y[4] - y[8])\n",
    "m += (s['48'] >= -(y[4] - y[8]))\n",
    "m += (s['57'] >= y[5] - y[7])\n",
    "m += (s['57'] >= -(y[5] - y[7]))\n",
    "m += (s['58'] >= y[5] - y[8])\n",
    "m += (s['58'] >= -(y[5] - y[8]))\n"
   ]
  },
  {
   "cell_type": "code",
   "execution_count": 6,
   "metadata": {},
   "outputs": [],
   "source": [
    "# Layer constraints\n",
    "\n",
    "m += (y[1] >= y[0] + wn[0])\n",
    "m += (y[1] >= y[3] + wn[3])\n",
    "m += (y[1] >= y[4] + wn[4])\n",
    "m += (y[1] >= y[6] + wn[6])\n",
    "m += (y[1] >= y[7] + wn[7])\n",
    "m += (y[2] >= y[0] + wn[0])\n",
    "m += (y[2] >= y[3] + wn[3])\n",
    "m += (y[2] >= y[4] + wn[4])\n",
    "m += (y[2] >= y[6] + wn[6])\n",
    "m += (y[2] >= y[7] + wn[7])\n",
    "m += (y[5] >= y[0] + wn[0])\n",
    "m += (y[5] >= y[3] + wn[3])\n",
    "m += (y[5] >= y[4] + wn[4])\n",
    "m += (y[5] >= y[6] + wn[6])\n",
    "m += (y[5] >= y[7] + wn[7])\n",
    "m += (y[8] >= y[0] + wn[0])\n",
    "m += (y[8] >= y[3] + wn[3])\n",
    "m += (y[8] >= y[4] + wn[4])\n",
    "m += (y[8] >= y[6] + wn[6])\n",
    "m += (y[8] >= y[7] + wn[7])\n"
   ]
  },
  {
   "cell_type": "code",
   "execution_count": 7,
   "metadata": {},
   "outputs": [],
   "source": [
    "# Objective function\n",
    "m.objective = minimize( xsum(s[flow]*w[flow] for flow in s.keys()) )"
   ]
  },
  {
   "cell_type": "code",
   "execution_count": 8,
   "metadata": {},
   "outputs": [],
   "source": [
    "status = m.optimize()"
   ]
  },
  {
   "cell_type": "code",
   "execution_count": 9,
   "metadata": {},
   "outputs": [
    {
     "data": {
      "text/plain": [
       "12.0"
      ]
     },
     "execution_count": 9,
     "metadata": {},
     "output_type": "execute_result"
    }
   ],
   "source": [
    "y[4].x"
   ]
  },
  {
   "cell_type": "code",
   "execution_count": 10,
   "metadata": {},
   "outputs": [
    {
     "data": {
      "text/plain": [
       "10.0"
      ]
     },
     "execution_count": 10,
     "metadata": {},
     "output_type": "execute_result"
    }
   ],
   "source": [
    "d['78'].x"
   ]
  },
  {
   "cell_type": "code",
   "execution_count": 11,
   "metadata": {},
   "outputs": [],
   "source": [
    "import ilp_code.dataset_manipulation as dm\n",
    "import ilp_code.diagram_optimisation as do\n",
    "import pandas as pd\n",
    "from floweaver import *\n",
    "from attr import evolve"
   ]
  },
  {
   "cell_type": "code",
   "execution_count": 12,
   "metadata": {},
   "outputs": [],
   "source": [
    "# Import the two relevant csv files as dictionaries \n",
    "flowst1 = pd.read_csv('datasets\\\\m3_t0_flows.csv').to_dict('records')\n",
    "node_deft1 = pd.read_csv('datasets\\\\m3_t0_nodes.csv').to_dict('records')\n",
    "datasett1 = Dataset.from_csv('datasets\\\\m3_t0_flows.csv','datasets\\\\m3_t0_nodes.csv')"
   ]
  },
  {
   "cell_type": "code",
   "execution_count": 13,
   "metadata": {},
   "outputs": [
    {
     "data": {
      "application/vnd.jupyter.widget-view+json": {
       "model_id": "2cff3c5065b94378afb41ce8643082ae",
       "version_major": 2,
       "version_minor": 0
      },
      "text/plain": [
       "SankeyWidget(layout=Layout(height='500', width='600'), links=[{'source': 'n0^*', 'target': 'n3^*', 'type': '*'…"
      ]
     },
     "metadata": {},
     "output_type": "display_data"
    }
   ],
   "source": [
    "# Generate the dataset required for plotting the diagram\n",
    "nodest1 = dm.generate_nodes(node_deft1)\n",
    "orderingt1 = dm.generate_ordering(node_deft1)\n",
    "orderingt1,nodest1,bundlest1 = dm.generate_waypoints_bundles(node_deft1, flowst1, orderingt1, nodest1)\n",
    "\n",
    "# Generate sankey data\n",
    "size = dict(width = 600, height = 500)\n",
    "sddt1 = SankeyDefinition(nodest1, bundlest1, orderingt1)\n",
    "sankey_datat1 = weave(sddt1, datasett1)\n",
    "\n",
    "# Plot diagram\n",
    "sankey_datat1.to_widget(**size)"
   ]
  },
  {
   "cell_type": "code",
   "execution_count": 14,
   "metadata": {},
   "outputs": [
    {
     "data": {
      "application/vnd.jupyter.widget-view+json": {
       "model_id": "44af1c9ed7fb4bf5b953aaae2bac2091",
       "version_major": 2,
       "version_minor": 0
      },
      "text/plain": [
       "SankeyWidget(layout=Layout(height='500', width='600'), links=[{'source': 'n0^*', 'target': 'n3^*', 'type': '*'…"
      ]
     },
     "metadata": {},
     "output_type": "display_data"
    }
   ],
   "source": [
    "# Optimise the order of the nodes based off crossing area ONLY\n",
    "modelt1 = do.model_inputs(sankey_datat1)\n",
    "ordering_optimisedt1 = do.optimise_node_order(modelt1)\n",
    "\n",
    "# Evolve the diagram and plot optimised version\n",
    "sankey_data_evolvedt1 = evolve(sankey_datat1, ordering = ordering_optimisedt1)\n",
    "sankey_data_evolvedt1.to_widget(**size)"
   ]
  },
  {
   "cell_type": "code",
   "execution_count": 15,
   "metadata": {},
   "outputs": [],
   "source": [
    "smodel = do.straightness_model(sankey_datat1)"
   ]
  },
  {
   "cell_type": "code",
   "execution_count": 16,
   "metadata": {},
   "outputs": [],
   "source": [
    "ys = do.optimise_position(smodel, wslb=5)"
   ]
  },
  {
   "cell_type": "code",
   "execution_count": 17,
   "metadata": {},
   "outputs": [
    {
     "data": {
      "text/plain": [
       "{'n0^*': 6.0,\n",
       " 'n1^*': 24.0,\n",
       " 'n2^*': 37.0,\n",
       " 'n3^*': 0.0,\n",
       " 'n4^*': 14.0,\n",
       " 'n5^*': 29.0,\n",
       " 'n6^*': 0.0,\n",
       " 'n7^*': 11.0,\n",
       " 'n8^*': 24.0}"
      ]
     },
     "execution_count": 17,
     "metadata": {},
     "output_type": "execute_result"
    }
   ],
   "source": [
    "ys"
   ]
  },
  {
   "cell_type": "code",
   "execution_count": 18,
   "metadata": {},
   "outputs": [
    {
     "data": {
      "application/vnd.jupyter.widget-view+json": {
       "model_id": "d70bf161e45547f6a8af1743923a6626",
       "version_major": 2,
       "version_minor": 0
      },
      "text/plain": [
       "SankeyWidget(layout=Layout(height='500', width='600'), links=[{'source': 'n0^*', 'target': 'n3^*', 'type': '*'…"
      ]
     },
     "metadata": {},
     "output_type": "display_data"
    }
   ],
   "source": [
    "sankey_data_evolvedt1.to_widget(**size)"
   ]
  },
  {
   "cell_type": "code",
   "execution_count": 19,
   "metadata": {},
   "outputs": [],
   "source": [
    "from ipysankeywidget import SankeyWidget\n",
    "from ipywidgets import Layout, Output\n",
    "\n",
    "def create_widget(\n",
    "        sdd,\n",
    "        width=700,\n",
    "        height=500,\n",
    "        margins=None,\n",
    "        align_link_types=False,\n",
    "        link_label_format=\"\",\n",
    "        link_label_min_width=5,\n",
    "        debugging=False,\n",
    "        forceY=None,\n",
    "        y_scale=1\n",
    "    ):\n",
    "\n",
    "    if SankeyWidget is None:\n",
    "        raise RuntimeError(\"ipysankeywidget is required\")\n",
    "\n",
    "    if margins is None:\n",
    "        margins = {\n",
    "            \"top\": 25,\n",
    "            \"bottom\": 10,\n",
    "            \"left\": 130,\n",
    "            \"right\": 130,\n",
    "        }\n",
    "\n",
    "    value = sdd.to_json(format=\"widget\")\n",
    "\n",
    "    # If forceY exists then force the y coordinates\n",
    "    if forceY:\n",
    "        # Loop through all the layers\n",
    "        for i, layer in enumerate(value['order']):\n",
    "            # Loop through each band in the order\n",
    "            for band in layer:\n",
    "                # Loop through all the nodes in each band:\n",
    "                for node in band:\n",
    "                    # Need to loop through the nodes dict and add the force coords\n",
    "                    for n in value['nodes']:\n",
    "                        # If the n[id] matches node then add the positions\n",
    "                        if node == n['id']:\n",
    "                            n['position'] = [ (i*width)/(len(value['order'])), forceY[node]*y_scale]\n",
    "                            print( )\n",
    "\n",
    "\n",
    "    if forceY:\n",
    "        widget = SankeyWidget(\n",
    "            nodes=value[\"nodes\"],\n",
    "            links=value[\"links\"],\n",
    "            order=value[\"order\"],\n",
    "            groups=value[\"groups\"],\n",
    "            align_link_types=align_link_types,\n",
    "            linkLabelFormat=link_label_format,\n",
    "            linkLabelMinWidth=link_label_min_width,\n",
    "            layout= Layout(width=str(width), height=str(height)),\n",
    "            margins=margins,\n",
    "            node_position_attr = 'position'\n",
    "        )\n",
    "        widget.scale = y_scale\n",
    "\n",
    "    else:\n",
    "        widget = SankeyWidget(\n",
    "            nodes=value[\"nodes\"],\n",
    "            links=value[\"links\"],\n",
    "            order=value[\"order\"],\n",
    "            groups=value[\"groups\"],\n",
    "            align_link_types=align_link_types,\n",
    "            linkLabelFormat=link_label_format,\n",
    "            linkLabelMinWidth=link_label_min_width,\n",
    "            layout= Layout(width=str(width), height=str(height)),\n",
    "            margins=margins,\n",
    "        )\n",
    "\n",
    "    return widget"
   ]
  },
  {
   "cell_type": "code",
   "execution_count": 20,
   "metadata": {},
   "outputs": [],
   "source": [
    "w = create_widget(sankey_data_evolvedt1, forceY = ys, y_scale=10)"
   ]
  },
  {
   "cell_type": "code",
   "execution_count": 21,
   "metadata": {},
   "outputs": [
    {
     "data": {
      "application/vnd.jupyter.widget-view+json": {
       "model_id": "f9324997d2d540bc992a441ee9d87dd8",
       "version_major": 2,
       "version_minor": 0
      },
      "text/plain": [
       "SankeyWidget(layout=Layout(height='500', width='700'), links=[{'source': 'n0^*', 'target': 'n3^*', 'type': '*'…"
      ]
     },
     "metadata": {},
     "output_type": "display_data"
    }
   ],
   "source": [
    "w"
   ]
  },
  {
   "cell_type": "code",
   "execution_count": null,
   "metadata": {},
   "outputs": [],
   "source": []
  }
 ],
 "metadata": {
  "kernelspec": {
   "display_name": "Python 3",
   "language": "python",
   "name": "python3"
  },
  "language_info": {
   "codemirror_mode": {
    "name": "ipython",
    "version": 3
   },
   "file_extension": ".py",
   "mimetype": "text/x-python",
   "name": "python",
   "nbconvert_exporter": "python",
   "pygments_lexer": "ipython3",
   "version": "3.8.5"
  }
 },
 "nbformat": 4,
 "nbformat_minor": 4
}
