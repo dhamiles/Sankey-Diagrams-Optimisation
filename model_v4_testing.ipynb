{
 "cells": [
  {
   "cell_type": "markdown",
   "metadata": {},
   "source": [
    "## Model V4 - Multi-Objective MIP Crossing/Straightness Model"
   ]
  },
  {
   "cell_type": "code",
   "execution_count": null,
   "metadata": {},
   "outputs": [],
   "source": [
    "import ilp_code.dataset_manipulation as dm\n",
    "import ilp_code.diagram_optimisation as do\n",
    "import pandas as pd\n",
    "from floweaver import *\n",
    "from attr import evolve"
   ]
  },
  {
   "cell_type": "markdown",
   "metadata": {},
   "source": [
    "## Example 1: Plotting the Global Flow of Steel Dataset"
   ]
  },
  {
   "cell_type": "code",
   "execution_count": null,
   "metadata": {},
   "outputs": [],
   "source": [
    "# Import the two relevant csv files as dictionaries \n",
    "flows = pd.read_csv('datasets\\global_steel_flows.csv').to_dict('records')\n",
    "node_def = pd.read_csv('datasets\\global_steel_nodes.csv').to_dict('records')\n",
    "dataset = Dataset.from_csv('datasets\\global_steel_flows.csv','datasets\\global_steel_nodes.csv')"
   ]
  },
  {
   "cell_type": "code",
   "execution_count": null,
   "metadata": {},
   "outputs": [],
   "source": [
    "# Generate the dataset required for plotting the diagram\n",
    "nodes = dm.generate_nodes(node_def, group_by='type', partition_groups='all')\n",
    "ordering = dm.generate_ordering(node_def, group_by='type')\n",
    "ordering,nodes,bundles = dm.generate_waypoints_bundles(node_def, flows, ordering, nodes, group_by='type')\n",
    "\n",
    "# Generate sankey data\n",
    "size = dict(width = 1200, height = 500)\n",
    "flows_by_type = dataset.partition('type')\n",
    "sdd = SankeyDefinition(nodes, bundles, ordering, flow_partition=flows_by_type)\n",
    "sankey_data = weave(sdd, dataset)\n",
    "\n",
    "# Plot diagram\n",
    "sankey_data.to_widget(**size)"
   ]
  },
  {
   "cell_type": "code",
   "execution_count": null,
   "metadata": {},
   "outputs": [],
   "source": [
    "# Create both the Straightness and the Crossing Models \n",
    "c_model1 = do.model_inputs(sankey_data, group_nodes=True)\n",
    "s_model1 = do.straightness_model(sankey_data)"
   ]
  },
  {
   "cell_type": "code",
   "execution_count": null,
   "metadata": {},
   "outputs": [],
   "source": [
    "# Run the full optimisation model   \n",
    "import timeit\n",
    "starttime = timeit.default_timer()\n",
    "opt_order1, ys1, m = do.optimise_hybrid_model(s_model1, c_model1, group_nodes = True, wslb = 125, wsub = 1000)\n",
    "duration = timeit.default_timer() - starttime\n",
    "duration"
   ]
  },
  {
   "cell_type": "code",
   "execution_count": null,
   "metadata": {},
   "outputs": [],
   "source": [
    "# Evolve the diagram and plot optimised version\n",
    "sankey_data_evolved = evolve(sankey_data, ordering = opt_order1)\n",
    "w = do.create_widget(sankey_data_evolved, forceY = ys1, y_scale = 0.12, width = 1200, height = 500)\n",
    "w"
   ]
  },
  {
   "cell_type": "code",
   "execution_count": null,
   "metadata": {},
   "outputs": [],
   "source": [
    "m.objective_value"
   ]
  },
  {
   "cell_type": "code",
   "execution_count": null,
   "metadata": {},
   "outputs": [],
   "source": []
  }
 ],
 "metadata": {
  "kernelspec": {
   "display_name": "Python 3",
   "language": "python",
   "name": "python3"
  },
  "language_info": {
   "codemirror_mode": {
    "name": "ipython",
    "version": 3
   },
   "file_extension": ".py",
   "mimetype": "text/x-python",
   "name": "python",
   "nbconvert_exporter": "python",
   "pygments_lexer": "ipython3",
   "version": "3.8.5"
  }
 },
 "nbformat": 4,
 "nbformat_minor": 4
}
