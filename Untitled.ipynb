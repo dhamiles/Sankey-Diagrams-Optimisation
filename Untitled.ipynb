{
 "cells": [
  {
   "cell_type": "code",
   "execution_count": 1,
   "metadata": {},
   "outputs": [],
   "source": [
    "import pandas as pd\n",
    "from floweaver import *\n",
    "import ilp_code.dataset_manipulation as dm\n",
    "import ilp_code.diagram_optimisation as do\n",
    "from attr import evolve\n",
    "\n",
    "# Import the two relevant csv files as dictionaries \n",
    "flows = pd.read_csv('datasets\\\\food_flows_table.csv').to_dict('records')\n",
    "node_def = pd.read_csv('datasets\\\\food_nodes_table.csv').to_dict('records')\n",
    "dataset = Dataset.from_csv('datasets\\\\food_flows_table.csv','datasets\\\\food_nodes_table.csv')"
   ]
  },
  {
   "cell_type": "code",
   "execution_count": 2,
   "metadata": {},
   "outputs": [
    {
     "data": {
      "text/plain": [
       "{'farm': ProcessGroup(selection='type == \"farm\"', partition=None, direction='R', title=None),\n",
       " 'losses1': ProcessGroup(selection='type == \"losses1\"', partition=None, direction='R', title=None),\n",
       " 'import': ProcessGroup(selection='type == \"import\"', partition=None, direction='R', title=None),\n",
       " 'factory': ProcessGroup(selection='type == \"factory\"', partition=None, direction='R', title=None),\n",
       " 'losses2': ProcessGroup(selection='type == \"losses2\"', partition=None, direction='R', title=None),\n",
       " 'restaurant': ProcessGroup(selection='type == \"restaurant\"', partition=None, direction='R', title=None),\n",
       " 'shop': ProcessGroup(selection='type == \"shop\"', partition=None, direction='R', title=None),\n",
       " 'customer': ProcessGroup(selection='type == \"customer\"', partition=None, direction='R', title=None)}"
      ]
     },
     "execution_count": 2,
     "metadata": {},
     "output_type": "execute_result"
    }
   ],
   "source": [
    "nodes = dm.generate_nodes(node_def, group_by='type')\n",
    "nodes"
   ]
  },
  {
   "cell_type": "code",
   "execution_count": 3,
   "metadata": {},
   "outputs": [
    {
     "data": {
      "text/plain": [
       "{'farm': ProcessGroup(selection='type == \"farm\"', partition=None, direction='R', title=None),\n",
       " 'losses1': ProcessGroup(selection='type == \"losses1\"', partition=None, direction='R', title=None),\n",
       " 'import': ProcessGroup(selection='type == \"import\"', partition=None, direction='R', title=None),\n",
       " 'factory': ProcessGroup(selection='type == \"factory\"', partition=None, direction='R', title=None),\n",
       " 'losses2': ProcessGroup(selection='type == \"losses2\"', partition=None, direction='R', title=None),\n",
       " 'restaurant': ProcessGroup(selection='type == \"restaurant\"', partition=None, direction='R', title=None),\n",
       " 'shop': ProcessGroup(selection='type == \"shop\"', partition=None, direction='R', title=None),\n",
       " 'customer': ProcessGroup(selection='type == \"customer\"', partition=None, direction='R', title=None)}"
      ]
     },
     "execution_count": 3,
     "metadata": {},
     "output_type": "execute_result"
    }
   ],
   "source": [
    "\n",
    "# nodes['farm'].partition = Partition.Simple('process',[\n",
    "#     'farm1','farm2','farm3'\n",
    "# ])\n",
    "# nodes['import'].partition = Partition.Simple('process',[\n",
    "#     'import1','import2'\n",
    "# ])\n",
    "# nodes['factory'].partition = Partition.Simple('process',[\n",
    "#     'factory1','factory2'\n",
    "# ])\n",
    "# nodes['losses2'].partition = Partition.Simple('process',[\n",
    "#     'factory_losses','restaurant_losses','shop_losses'\n",
    "# ])\n",
    "# nodes['restaurant'].partition = Partition.Simple('process',[\n",
    "#     'restaurant1','restaurant2'\n",
    "# ])\n",
    "# nodes['shop'].partition = Partition.Simple('process',[\n",
    "#     'shop1','shop2'\n",
    "# ])\n",
    "# nodes['customer'].partition = Partition.Simple('process',[\n",
    "#     'customer1','customer2','customer3','customer4'\n",
    "# ])\n",
    "\n",
    "nodes\n"
   ]
  },
  {
   "cell_type": "code",
   "execution_count": 4,
   "metadata": {},
   "outputs": [
    {
     "data": {
      "text/plain": [
       "[[[], ['farm', 'import']],\n",
       " [['losses1'], ['factory', 'restaurant', 'shop']],\n",
       " [['losses2'], ['customer']]]"
      ]
     },
     "execution_count": 4,
     "metadata": {},
     "output_type": "execute_result"
    }
   ],
   "source": [
    "ordering = dm.generate_ordering(node_def, group_by='type')\n",
    "ordering"
   ]
  },
  {
   "cell_type": "code",
   "execution_count": 5,
   "metadata": {},
   "outputs": [
    {
     "data": {
      "text/plain": [
       "[Bundle(source='farm', target='factory', waypoints=(), flow_selection=None, flow_partition=None, default_partition=None),\n",
       " Bundle(source='farm', target='shop', waypoints=(), flow_selection=None, flow_partition=None, default_partition=None),\n",
       " Bundle(source='farm', target='customer', waypoints=('fwpfarmcustomer0',), flow_selection=None, flow_partition=None, default_partition=None),\n",
       " Bundle(source='farm', target='restaurant', waypoints=(), flow_selection=None, flow_partition=None, default_partition=None),\n",
       " Bundle(source='farm', target='losses1', waypoints=(), flow_selection=None, flow_partition=None, default_partition=None),\n",
       " Bundle(source='import', target='factory', waypoints=(), flow_selection=None, flow_partition=None, default_partition=None),\n",
       " Bundle(source='import', target='restaurant', waypoints=(), flow_selection=None, flow_partition=None, default_partition=None),\n",
       " Bundle(source='import', target='shop', waypoints=(), flow_selection=None, flow_partition=None, default_partition=None),\n",
       " Bundle(source='factory', target='customer', waypoints=(), flow_selection=None, flow_partition=None, default_partition=None),\n",
       " Bundle(source='factory', target='restaurant', waypoints=('wp1',), flow_selection=None, flow_partition=None, default_partition=None),\n",
       " Bundle(source='restaurant', target='customer', waypoints=(), flow_selection=None, flow_partition=None, default_partition=None),\n",
       " Bundle(source='shop', target='restaurant', waypoints=('wp1',), flow_selection=None, flow_partition=None, default_partition=None),\n",
       " Bundle(source='shop', target='customer', waypoints=(), flow_selection=None, flow_partition=None, default_partition=None),\n",
       " Bundle(source='factory', target='losses2', waypoints=(), flow_selection=None, flow_partition=None, default_partition=None),\n",
       " Bundle(source='restaurant', target='losses2', waypoints=(), flow_selection=None, flow_partition=None, default_partition=None),\n",
       " Bundle(source='shop', target='losses2', waypoints=(), flow_selection=None, flow_partition=None, default_partition=None),\n",
       " Bundle(source='customer', target='farm', waypoints=('wp2', 'wp0'), flow_selection=None, flow_partition=None, default_partition=None)]"
      ]
     },
     "execution_count": 5,
     "metadata": {},
     "output_type": "execute_result"
    }
   ],
   "source": [
    "ordering,nodes,bundles = dm.generate_waypoints_bundles(node_def, flows, ordering, nodes, group_by='type')\n",
    "bundles"
   ]
  },
  {
   "cell_type": "code",
   "execution_count": 6,
   "metadata": {},
   "outputs": [
    {
     "data": {
      "application/vnd.jupyter.widget-view+json": {
       "model_id": "f2af35fc60b5400b97cabe180c449cf2",
       "version_major": 2,
       "version_minor": 0
      },
      "text/plain": [
       "SankeyWidget(groups=[{'id': 'wp0', 'type': 'group', 'title': '', 'nodes': ['wp0^*']}, {'id': 'fwpfarmcustomer0…"
      ]
     },
     "metadata": {},
     "output_type": "display_data"
    }
   ],
   "source": [
    "flows_by_type = dataset.partition('type')\n",
    "sdd = SankeyDefinition(nodes, bundles, ordering, flow_partition=flows_by_type)\n",
    "\n",
    "# Generate sankey data\n",
    "size = dict(width = 600, height = 500)\n",
    "sankey_data = weave(sdd, dataset)\n",
    "\n",
    "# Plot diagram\n",
    "sankey_data.to_widget(**size)"
   ]
  },
  {
   "cell_type": "code",
   "execution_count": 7,
   "metadata": {},
   "outputs": [
    {
     "data": {
      "text/plain": [
       "(((), ('farm^*', 'import^*'), ('wp0^*',)),\n",
       " (('losses1^*',),\n",
       "  ('factory^*', 'restaurant^*', 'shop^*', 'fwpfarmcustomer0^*'),\n",
       "  ('__wp2_wp0_1^*', 'wp1^*')),\n",
       " (('losses2^*',), ('customer^*',), ('wp2^*',)))"
      ]
     },
     "execution_count": 7,
     "metadata": {},
     "output_type": "execute_result"
    }
   ],
   "source": [
    "sankey_data.ordering.layers\n",
    "#sankey_data.nodes"
   ]
  },
  {
   "cell_type": "code",
   "execution_count": 8,
   "metadata": {},
   "outputs": [
    {
     "data": {
      "text/plain": [
       "[[[], ['farm^*', 'import^*'], ['wp0^*']],\n",
       " [['losses1^*'],\n",
       "  ['fwpfarmcustomer0^*', 'factory^*', 'shop^*', 'restaurant^*'],\n",
       "  ['wp1^*', '__wp2_wp0_1^*']],\n",
       " [['losses2^*'], ['customer^*'], ['wp2^*']]]"
      ]
     },
     "execution_count": 8,
     "metadata": {},
     "output_type": "execute_result"
    }
   ],
   "source": [
    "model = do.model_inputs(sankey_data, group_nodes = True)\n",
    "opt_order = do.optimise_node_order(model, group_nodes = True)\n",
    "opt_order"
   ]
  },
  {
   "cell_type": "code",
   "execution_count": 9,
   "metadata": {},
   "outputs": [
    {
     "data": {
      "application/vnd.jupyter.widget-view+json": {
       "model_id": "1ff40bf4d7b44b53a5a2e7c9b9a4034e",
       "version_major": 2,
       "version_minor": 0
      },
      "text/plain": [
       "SankeyWidget(groups=[{'id': 'wp0', 'type': 'group', 'title': '', 'nodes': ['wp0^*']}, {'id': 'fwpfarmcustomer0…"
      ]
     },
     "metadata": {},
     "output_type": "display_data"
    }
   ],
   "source": [
    "# Evolve the diagram and plot optimised version\n",
    "sankey_data_evolved = evolve(sankey_data, ordering = opt_order)\n",
    "sankey_data_evolved.to_widget(**size)"
   ]
  }
 ],
 "metadata": {
  "kernelspec": {
   "display_name": "Python 3",
   "language": "python",
   "name": "python3"
  },
  "language_info": {
   "codemirror_mode": {
    "name": "ipython",
    "version": 3
   },
   "file_extension": ".py",
   "mimetype": "text/x-python",
   "name": "python",
   "nbconvert_exporter": "python",
   "pygments_lexer": "ipython3",
   "version": "3.8.5"
  }
 },
 "nbformat": 4,
 "nbformat_minor": 4
}
