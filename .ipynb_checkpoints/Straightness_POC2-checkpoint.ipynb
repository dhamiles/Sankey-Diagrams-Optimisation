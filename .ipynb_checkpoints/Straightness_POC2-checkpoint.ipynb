{
 "cells": [
  {
   "cell_type": "code",
   "execution_count": 1,
   "metadata": {},
   "outputs": [],
   "source": [
    "from mip import *\n",
    "\n",
    "m = Model(\"Sankey\")"
   ]
  },
  {
   "cell_type": "code",
   "execution_count": 2,
   "metadata": {},
   "outputs": [],
   "source": [
    "# Declare the constants\n",
    "wn = [\n",
    "    13,\n",
    "    8,\n",
    "    6,\n",
    "    9,\n",
    "    10,\n",
    "    12,\n",
    "    6,\n",
    "    6,\n",
    "    8\n",
    "]\n",
    "\n",
    "w = {\n",
    "    '03':5,\n",
    "    '04':2,\n",
    "    '05':6,\n",
    "    '14':8,\n",
    "    '25':6,\n",
    "    '36':6,\n",
    "    '37':3,\n",
    "    '48':4,\n",
    "    '57':3,\n",
    "    '58':4\n",
    "}\n",
    "\n",
    "dlb = 1"
   ]
  },
  {
   "cell_type": "code",
   "execution_count": 3,
   "metadata": {},
   "outputs": [],
   "source": [
    "# Create variables\n",
    "\n",
    "y = [\n",
    "    m.add_var(var_type = CONTINUOUS),\n",
    "    m.add_var(var_type = CONTINUOUS),\n",
    "    m.add_var(var_type = CONTINUOUS),\n",
    "    m.add_var(var_type = CONTINUOUS),\n",
    "    m.add_var(var_type = CONTINUOUS),\n",
    "    m.add_var(var_type = CONTINUOUS),\n",
    "    m.add_var(var_type = CONTINUOUS),\n",
    "    m.add_var(var_type = CONTINUOUS),\n",
    "    m.add_var(var_type = CONTINUOUS)\n",
    "]\n",
    "\n",
    "d = {\n",
    "    'o0':m.add_var(var_type = CONTINUOUS, lb = 0),\n",
    "    '01':m.add_var(var_type = CONTINUOUS, lb = dlb),\n",
    "    '12':m.add_var(var_type = CONTINUOUS, lb = dlb),\n",
    "    'o1':m.add_var(var_type = CONTINUOUS, lb = 0),\n",
    "    '34':m.add_var(var_type = CONTINUOUS, lb = dlb),\n",
    "    '45':m.add_var(var_type = CONTINUOUS, lb = dlb),\n",
    "    'o2':m.add_var(var_type = CONTINUOUS, lb = 0),\n",
    "    '67':m.add_var(var_type = CONTINUOUS, lb = dlb),\n",
    "    '78':m.add_var(var_type = CONTINUOUS, lb = dlb)\n",
    "}\n",
    "\n",
    "s = {\n",
    "    '03':m.add_var(var_type = CONTINUOUS),\n",
    "    '04':m.add_var(var_type = CONTINUOUS),\n",
    "    '05':m.add_var(var_type = CONTINUOUS),\n",
    "    '14':m.add_var(var_type = CONTINUOUS),\n",
    "    '25':m.add_var(var_type = CONTINUOUS),\n",
    "    '36':m.add_var(var_type = CONTINUOUS),\n",
    "    '37':m.add_var(var_type = CONTINUOUS),\n",
    "    '48':m.add_var(var_type = CONTINUOUS),\n",
    "    '57':m.add_var(var_type = CONTINUOUS),\n",
    "    '58':m.add_var(var_type = CONTINUOUS)\n",
    "}\n"
   ]
  },
  {
   "cell_type": "code",
   "execution_count": 4,
   "metadata": {},
   "outputs": [],
   "source": [
    "# Create the constraints for linking y values\n",
    "\n",
    "m += (y[0] == d['o0'])\n",
    "m += (y[1] == d['o0'] + wn[0] + d['01'])\n",
    "m += (y[2] == d['o0'] + wn[0] + d['01'] + wn[1] + d['12'])\n",
    "m += (y[3] == d['o1'])\n",
    "m += (y[4] == d['o1'] + wn[3] + d['34'])\n",
    "m += (y[5] == d['o1'] + wn[3] + d['34'] + wn[4] + d['45'])\n",
    "m += (y[6] == d['o2'])\n",
    "m += (y[7] == d['o2'] + wn[6] + d['67'])\n",
    "m += (y[8] == d['o2'] + wn[6] + d['67'] + wn[7] + d['78'])"
   ]
  },
  {
   "cell_type": "code",
   "execution_count": 5,
   "metadata": {},
   "outputs": [],
   "source": [
    "# Straightness constraints\n",
    "\n",
    "m += (s['03'] >= y[0] - y[3])\n",
    "m += (s['03'] >= -(y[0] - y[3]))\n",
    "m += (s['04'] >= y[0] - y[4])\n",
    "m += (s['04'] >= -(y[0] - y[4]))\n",
    "m += (s['05'] >= y[0] - y[5])\n",
    "m += (s['05'] >= -(y[0] - y[5]))\n",
    "m += (s['14'] >= y[1] - y[4])\n",
    "m += (s['14'] >= -(y[1] - y[4]))\n",
    "m += (s['25'] >= y[2] - y[5])\n",
    "m += (s['25'] >= -(y[2] - y[5]))\n",
    "m += (s['36'] >= y[3] - y[6])\n",
    "m += (s['36'] >= -(y[3] - y[6]))\n",
    "m += (s['37'] >= y[3] - y[7])\n",
    "m += (s['37'] >= -(y[3] - y[7]))\n",
    "m += (s['48'] >= y[4] - y[8])\n",
    "m += (s['48'] >= -(y[4] - y[8]))\n",
    "m += (s['57'] >= y[5] - y[7])\n",
    "m += (s['57'] >= -(y[5] - y[7]))\n",
    "m += (s['58'] >= y[5] - y[8])\n",
    "m += (s['58'] >= -(y[5] - y[8]))\n"
   ]
  },
  {
   "cell_type": "code",
   "execution_count": 6,
   "metadata": {},
   "outputs": [],
   "source": [
    "# Layer constraints\n",
    "\n",
    "m += (y[1] >= y[0])\n",
    "m += (y[1] >= y[3])\n",
    "m += (y[1] >= y[4])\n",
    "m += (y[1] >= y[6])\n",
    "m += (y[1] >= y[7])\n",
    "m += (y[2] >= y[0])\n",
    "m += (y[2] >= y[3])\n",
    "m += (y[2] >= y[4])\n",
    "m += (y[2] >= y[6])\n",
    "m += (y[2] >= y[7])\n",
    "m += (y[5] >= y[0])\n",
    "m += (y[5] >= y[3])\n",
    "m += (y[5] >= y[4])\n",
    "m += (y[5] >= y[6])\n",
    "m += (y[5] >= y[7])\n",
    "m += (y[8] >= y[0])\n",
    "m += (y[8] >= y[3])\n",
    "m += (y[8] >= y[4])\n",
    "m += (y[8] >= y[6])\n",
    "m += (y[8] >= y[7])\n"
   ]
  },
  {
   "cell_type": "code",
   "execution_count": 7,
   "metadata": {},
   "outputs": [],
   "source": [
    "# Objective function\n",
    "m.objective = minimize( xsum(s[flow]*w[flow] for flow in s.keys()) )"
   ]
  },
  {
   "cell_type": "code",
   "execution_count": 8,
   "metadata": {},
   "outputs": [],
   "source": [
    "status = m.optimize()"
   ]
  },
  {
   "cell_type": "code",
   "execution_count": 17,
   "metadata": {},
   "outputs": [
    {
     "data": {
      "text/plain": [
       "14.0"
      ]
     },
     "execution_count": 17,
     "metadata": {},
     "output_type": "execute_result"
    }
   ],
   "source": [
    "y[8].x"
   ]
  },
  {
   "cell_type": "code",
   "execution_count": 10,
   "metadata": {},
   "outputs": [
    {
     "data": {
      "text/plain": [
       "0.0"
      ]
     },
     "execution_count": 10,
     "metadata": {},
     "output_type": "execute_result"
    }
   ],
   "source": [
    "y[3].x"
   ]
  },
  {
   "cell_type": "code",
   "execution_count": null,
   "metadata": {},
   "outputs": [],
   "source": []
  }
 ],
 "metadata": {
  "kernelspec": {
   "display_name": "Python 3",
   "language": "python",
   "name": "python3"
  },
  "language_info": {
   "codemirror_mode": {
    "name": "ipython",
    "version": 3
   },
   "file_extension": ".py",
   "mimetype": "text/x-python",
   "name": "python",
   "nbconvert_exporter": "python",
   "pygments_lexer": "ipython3",
   "version": "3.8.5"
  }
 },
 "nbformat": 4,
 "nbformat_minor": 4
}
