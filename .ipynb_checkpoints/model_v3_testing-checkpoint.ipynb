{
 "cells": [
  {
   "cell_type": "markdown",
   "metadata": {},
   "source": [
    "## Model V3 - Edge Straightness Optimisation"
   ]
  },
  {
   "cell_type": "code",
   "execution_count": null,
   "metadata": {},
   "outputs": [],
   "source": [
    "import ilp_code.dataset_manipulation as dm\n",
    "import ilp_code.diagram_optimisation as do\n",
    "import pandas as pd\n",
    "from floweaver import *\n",
    "from attr import evolve"
   ]
  },
  {
   "cell_type": "markdown",
   "metadata": {},
   "source": [
    "## Test 1: Organising Two Flows\n",
    "\n",
    "This test takes in a simple dataset consisting of two flows that cross. If the model is functioning as expected then it will simply reverse the order of the nodes in either layer. "
   ]
  },
  {
   "cell_type": "code",
   "execution_count": null,
   "metadata": {},
   "outputs": [],
   "source": [
    "# Import the two relevant csv files as dictionaries \n",
    "flowst1 = pd.read_csv('datasets\\\\m3_t1_flows.csv').to_dict('records')\n",
    "node_deft1 = pd.read_csv('datasets\\\\m3_t1_nodes.csv').to_dict('records')\n",
    "datasett1 = Dataset.from_csv('datasets\\\\m3_t1_flows.csv','datasets\\\\m3_t1_nodes.csv')"
   ]
  },
  {
   "cell_type": "code",
   "execution_count": null,
   "metadata": {},
   "outputs": [],
   "source": [
    "# Generate the dataset required for plotting the diagram\n",
    "nodest1 = dm.generate_nodes(node_deft1)\n",
    "orderingt1 = dm.generate_ordering(node_deft1)\n",
    "orderingt1,nodest1,bundlest1 = dm.generate_waypoints_bundles(node_deft1, flowst1, orderingt1, nodest1)\n",
    "\n",
    "# Generate sankey data\n",
    "size = dict(width = 600, height = 500)\n",
    "flows_by_typet1 = datasett1.partition('type')\n",
    "sddt1 = SankeyDefinition(nodest1, bundlest1, orderingt1, flow_partition=flows_by_typet1)\n",
    "sankey_datat1 = weave(sddt1, datasett1)\n",
    "\n",
    "# Plot diagram\n",
    "sankey_datat1.to_widget(**size)"
   ]
  },
  {
   "cell_type": "code",
   "execution_count": null,
   "metadata": {},
   "outputs": [],
   "source": [
    "# Optimise the spacing based on straightness only\n",
    "s_modelt1 = do.straightness_model(sankey_datat1)\n",
    "ys_t1,mt1 = do.optimise_position(s_modelt1, wslb = 5)\n",
    "\n",
    "# Evolve the diagram and plot optimised version\n",
    "wt1 = do.create_widget(sankey_datat1, forceY = ys_t1, y_scale = 20)\n",
    "wt1"
   ]
  },
  {
   "cell_type": "markdown",
   "metadata": {},
   "source": [
    "## Test 2: Organising Simple Diagram\n",
    "\n",
    "This test will effectively take a simple diagram and organise it such that the straightness is maximised and the layer constraints are respected"
   ]
  },
  {
   "cell_type": "code",
   "execution_count": null,
   "metadata": {},
   "outputs": [],
   "source": [
    "# Import the two relevant csv files as dictionaries \n",
    "flowst2 = pd.read_csv('datasets\\\\m3_t2_flows.csv').to_dict('records')\n",
    "node_deft2 = pd.read_csv('datasets\\\\m3_t2_nodes.csv').to_dict('records')\n",
    "datasett2 = Dataset.from_csv('datasets\\\\m3_t2_flows.csv','datasets\\\\m3_t2_nodes.csv')"
   ]
  },
  {
   "cell_type": "code",
   "execution_count": null,
   "metadata": {},
   "outputs": [],
   "source": [
    "# Generate the dataset required for plotting the diagram\n",
    "nodest2 = dm.generate_nodes(node_deft2)\n",
    "orderingt2 = dm.generate_ordering(node_deft2)\n",
    "orderingt2,nodest2,bundlest2 = dm.generate_waypoints_bundles(node_deft2, flowst2, orderingt2, nodest2)\n",
    "\n",
    "# Generate sankey data\n",
    "size = dict(width = 600, height = 500)\n",
    "flows_by_typet2 = datasett2.partition('type')\n",
    "sddt2 = SankeyDefinition(nodest2, bundlest2, orderingt2, flow_partition=flows_by_typet2)\n",
    "sankey_datat2 = weave(sddt2, datasett2)\n",
    "\n",
    "# Plot diagram\n",
    "sankey_datat2.to_widget(**size)"
   ]
  },
  {
   "cell_type": "code",
   "execution_count": null,
   "metadata": {},
   "outputs": [],
   "source": [
    "# Optimise the spacing based on straightness only\n",
    "s_modelt2 = do.straightness_model(sankey_datat2)\n",
    "ys_t2,mt2 = do.optimise_position(s_modelt2, wslb = 5)\n",
    "\n",
    "# Evolve the diagram and plot optimised version\n",
    "wt2 = do.create_widget(sankey_datat2, forceY = ys_t2, y_scale = 10)\n",
    "wt2"
   ]
  },
  {
   "cell_type": "markdown",
   "metadata": {},
   "source": [
    "## Example 1: Plotting the Global Flow of Steel Dataset"
   ]
  },
  {
   "cell_type": "code",
   "execution_count": null,
   "metadata": {},
   "outputs": [],
   "source": [
    "# Import the two relevant csv files as dictionaries \n",
    "flows = pd.read_csv('datasets\\global_steel_flows.csv').to_dict('records')\n",
    "node_def = pd.read_csv('datasets\\global_steel_nodes.csv').to_dict('records')\n",
    "dataset = Dataset.from_csv('datasets\\global_steel_flows.csv','datasets\\global_steel_nodes.csv')"
   ]
  },
  {
   "cell_type": "code",
   "execution_count": null,
   "metadata": {},
   "outputs": [],
   "source": [
    "# Generate the dataset required for plotting the diagram\n",
    "nodes = dm.generate_nodes(node_def, group_by='type', partition_groups='all')\n",
    "ordering = dm.generate_ordering(node_def, group_by='type')\n",
    "ordering,nodes,bundles = dm.generate_waypoints_bundles(node_def, flows, ordering, nodes, group_by='type')\n",
    "\n",
    "# Generate sankey data\n",
    "size = dict(width = 1200, height = 500)\n",
    "flows_by_type = dataset.partition('type')\n",
    "sdd = SankeyDefinition(nodes, bundles, ordering, flow_partition=flows_by_type)\n",
    "sankey_data = weave(sdd, dataset)\n",
    "\n",
    "# Plot diagram\n",
    "sankey_data.to_widget(**size)"
   ]
  },
  {
   "cell_type": "code",
   "execution_count": null,
   "metadata": {},
   "outputs": [],
   "source": [
    "##### FIRST: Run straightness model with the UNOPTIMISED DIAGRAM!\n",
    "# Optimise the order of the nodes based off crossing area ONLY\n",
    "import timeit\n",
    "s_model1_uo = do.straightness_model(sankey_data)\n",
    "starttime = timeit.default_timer()\n",
    "ys_uo,m1uo = do.optimise_position(s_model1_uo, wslb = 125)\n",
    "duration = timeit.default_timer() - starttime\n",
    "\n",
    "# Evolve the diagram and plot optimised version\n",
    "w_uo = do.create_widget(sankey_data, forceY = ys_uo, y_scale = 0.12, width = 1200, height = 500)\n",
    "w_uo"
   ]
  },
  {
   "cell_type": "code",
   "execution_count": null,
   "metadata": {},
   "outputs": [],
   "source": [
    "m1uo.objective_value"
   ]
  },
  {
   "cell_type": "code",
   "execution_count": null,
   "metadata": {},
   "outputs": [],
   "source": [
    "duration"
   ]
  },
  {
   "cell_type": "code",
   "execution_count": null,
   "metadata": {
    "scrolled": true
   },
   "outputs": [],
   "source": [
    "# Optimise the order of the nodes based off crossing area ONLY\n",
    "model = do.model_inputs(sankey_data, group_nodes=True)\n",
    "starttime = timeit.default_timer()\n",
    "ordering_optimised,m1oo = do.optimise_node_order(model, group_nodes=True)\n",
    "duration = timeit.default_timer() - starttime\n",
    "\n",
    "# Evolve the diagram and plot optimised version\n",
    "from attr import evolve\n",
    "sankey_data_evolved = evolve(sankey_data, ordering = ordering_optimised)\n",
    "sankey_data_evolved.to_widget(**size)"
   ]
  },
  {
   "cell_type": "code",
   "execution_count": null,
   "metadata": {},
   "outputs": [],
   "source": [
    "m1oo.objective_value"
   ]
  },
  {
   "cell_type": "code",
   "execution_count": null,
   "metadata": {},
   "outputs": [],
   "source": [
    "duration"
   ]
  },
  {
   "cell_type": "code",
   "execution_count": null,
   "metadata": {
    "scrolled": true
   },
   "outputs": [],
   "source": [
    "##### FIRST: Run straightness model with the UNOPTIMISED DIAGRAM!\n",
    "# Optimise the order of the nodes based off crossing area ONLY\n",
    "s_model1 = do.straightness_model(sankey_data_evolved)\n",
    "starttime = timeit.default_timer()\n",
    "ys,m1 = do.optimise_position(s_model1, wslb = 125)\n",
    "duration = timeit.default_timer() - starttime\n",
    "\n",
    "# Evolve the diagram and plot optimised version\n",
    "w = do.create_widget(sankey_data_evolved, forceY = ys, y_scale = 0.125, width = 1200, height = 500)\n",
    "w"
   ]
  },
  {
   "cell_type": "code",
   "execution_count": null,
   "metadata": {},
   "outputs": [],
   "source": [
    "m1.objective_value"
   ]
  },
  {
   "cell_type": "code",
   "execution_count": null,
   "metadata": {},
   "outputs": [],
   "source": [
    "duration"
   ]
  },
  {
   "cell_type": "markdown",
   "metadata": {},
   "source": [
    "## Example 2: Synthetic Flow of Food Dataset"
   ]
  },
  {
   "cell_type": "code",
   "execution_count": null,
   "metadata": {},
   "outputs": [],
   "source": [
    "# Import the two relevant csv files as dictionaries \n",
    "flows2 = pd.read_csv('datasets\\\\food_flows_table.csv').to_dict('records')\n",
    "node_def2 = pd.read_csv('datasets\\\\food_nodes_table.csv').to_dict('records')\n",
    "dataset2 = Dataset.from_csv('datasets\\\\food_flows_table.csv','datasets\\\\food_nodes_table.csv')"
   ]
  },
  {
   "cell_type": "code",
   "execution_count": null,
   "metadata": {},
   "outputs": [],
   "source": [
    "# Generate the dataset required for plotting the diagram\n",
    "nodes2 = dm.generate_nodes(node_def2, group_by='type', partition_groups=None)\n",
    "ordering2 = dm.generate_ordering(node_def2, group_by='type')\n",
    "ordering2,nodes2,bundles2 = dm.generate_waypoints_bundles(node_def2, flows2, ordering2, nodes2, group_by='type')\n",
    "\n",
    "# Generate sankey data\n",
    "size = dict(width = 600, height = 500)\n",
    "flows_by_type = dataset2.partition('type')\n",
    "sdd2 = SankeyDefinition(nodes2, bundles2, ordering2, flow_partition=flows_by_type)\n",
    "sankey_data2 = weave(sdd2, dataset2)\n",
    "\n",
    "# Plot diagram\n",
    "sankey_data2.to_widget(**size)"
   ]
  },
  {
   "cell_type": "code",
   "execution_count": null,
   "metadata": {},
   "outputs": [],
   "source": [
    "##### FIRST: Run straightness model with the UNOPTIMISED DIAGRAM!\n",
    "# Optimise the order of the nodes based off crossing area ONLY\n",
    "s_model2_uo = do.straightness_model(sankey_data2)\n",
    "ys2_uo,m2uo = do.optimise_position(s_model2_uo, wslb = 10)\n",
    "\n",
    "# Evolve the diagram and plot optimised version\n",
    "w2_uo = do.create_widget(sankey_data2, forceY = ys2_uo, y_scale = 3, width = 600, height = 500)\n",
    "w2_uo"
   ]
  },
  {
   "cell_type": "code",
   "execution_count": null,
   "metadata": {},
   "outputs": [],
   "source": [
    "# Optimise the order of the nodes based off crossing area ONLY\n",
    "model2 = do.model_inputs(sankey_data2, group_nodes = True)\n",
    "\n",
    "ordering_optimised2,m2oo = do.optimise_node_order(model2, group_nodes = True)\n",
    "\n",
    "# Evolve the diagram and plot optimised version\n",
    "sankey_data_evolved2 = evolve(sankey_data2, ordering = ordering_optimised2)\n",
    "sankey_data_evolved2.to_widget(**size)"
   ]
  },
  {
   "cell_type": "code",
   "execution_count": null,
   "metadata": {},
   "outputs": [],
   "source": [
    "##### FIRST: Run straightness model with the UNOPTIMISED DIAGRAM!\n",
    "# Optimise the order of the nodes based off crossing area ONLY\n",
    "s_model2 = do.straightness_model(sankey_data_evolved2)\n",
    "ys2,m2 = do.optimise_position(s_model2, wslb = 10)\n",
    "\n",
    "# Evolve the diagram and plot optimised version\n",
    "w2 = do.create_widget(sankey_data_evolved2, forceY = ys2, y_scale = 3, width = 600, height = 500)\n",
    "w2"
   ]
  },
  {
   "cell_type": "code",
   "execution_count": null,
   "metadata": {},
   "outputs": [],
   "source": []
  }
 ],
 "metadata": {
  "kernelspec": {
   "display_name": "Python 3",
   "language": "python",
   "name": "python3"
  },
  "language_info": {
   "codemirror_mode": {
    "name": "ipython",
    "version": 3
   },
   "file_extension": ".py",
   "mimetype": "text/x-python",
   "name": "python",
   "nbconvert_exporter": "python",
   "pygments_lexer": "ipython3",
   "version": "3.8.5"
  }
 },
 "nbformat": 4,
 "nbformat_minor": 4
}
