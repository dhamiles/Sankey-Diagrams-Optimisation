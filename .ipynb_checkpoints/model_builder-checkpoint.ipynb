{
 "cells": [
  {
   "cell_type": "code",
   "execution_count": 1,
   "metadata": {},
   "outputs": [],
   "source": [
    "from mip import *"
   ]
  },
  {
   "cell_type": "code",
   "execution_count": null,
   "metadata": {},
   "outputs": [],
   "source": [
    "# Create a function for the straightness model inputs. \n",
    "def straightness_model(sankey_data):\n",
    "    \n",
    "    ## Create the node_layer_set\n",
    "    order = sankey_data.ordering.layers\n",
    "    node_layer_set = [ [] for i in range(len(order))]\n",
    "    node_band_set = [ [] for i in range(len(order[0]))]\n",
    "    node_dict = {}\n",
    "    \n",
    "    # loop through and add all the nodes into the node layer set\n",
    "    for i in range(len(order)):\n",
    "        for j in range(len(order[i])):\n",
    "            for k in order[i][j]:\n",
    "                # Append in correct locations \n",
    "                node_layer_set[i].append(k)\n",
    "                node_band_set[j].append(k)\n",
    "                # Add to the node_dict in correct location\n",
    "                node_dict[k] = {'layer':i, 'band':j, 'w_in':0, 'w_out':0}\n",
    "                \n",
    "    # Create the flows list\n",
    "    flows = sankey_data.links\n",
    "    # Create the empty edges dictionary\n",
    "    edges = []\n",
    "    # Create edge weights dictionary\n",
    "    edge_weight = {}\n",
    "    \n",
    "    for flow in flows:\n",
    "        \n",
    "        sl = node_dict[flow.source]['layer'] # save source layer to variable\n",
    "        tl = node_dict[flow.target]['layer'] # save target layer to variable\n",
    "        \n",
    "        # Ensure we are only considering the forward/main flows\n",
    "        if sl < tl:\n",
    "            edges.append((flow.source,flow.target))\n",
    "            edge_weight[(flow.source,flow.target)] = flow.data['value']\n",
    "            \n",
    "    # Determine the 'node weights' by assertaining the maximum of either in or out of each node\n",
    "    for flow in flows:\n",
    "        \n",
    "        # Calculate the maximum possible weight of each node \n",
    "        node_dict[flow.source]['w_out'] += flow.data['value']\n",
    "        node_dict[flow.target]['w_in'] += flow.data['value']\n",
    "        \n",
    "    # Figure out the maximum weight and assign it to a dictionary of node weightings \n",
    "    node_weight = {}\n",
    "    for node in node_dict:\n",
    "        # Assign value of the max weight!\n",
    "        node_weight[node] = max(node_dict[node]['w_in'], node_dict[node]['w_out'])\n",
    "        \n",
    "    model_inputs  = {\n",
    "        'node_layer_set': node_layer_set,\n",
    "        'node_band_set': node_band_set,\n",
    "        'edges': edges,\n",
    "        'edge_weight': edge_weight,\n",
    "        'node_weight': node_weight\n",
    "    }\n",
    "        \n",
    "        \n",
    "        \n",
    "    \n",
    "    \n",
    "    "
   ]
  }
 ],
 "metadata": {
  "kernelspec": {
   "display_name": "Python 3",
   "language": "python",
   "name": "python3"
  },
  "language_info": {
   "codemirror_mode": {
    "name": "ipython",
    "version": 3
   },
   "file_extension": ".py",
   "mimetype": "text/x-python",
   "name": "python",
   "nbconvert_exporter": "python",
   "pygments_lexer": "ipython3",
   "version": "3.8.5"
  }
 },
 "nbformat": 4,
 "nbformat_minor": 4
}
